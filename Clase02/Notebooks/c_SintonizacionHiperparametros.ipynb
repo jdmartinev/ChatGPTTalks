{
  "nbformat": 4,
  "nbformat_minor": 0,
  "metadata": {
    "colab": {
      "provenance": [],
      "authorship_tag": "ABX9TyOuj3chr1GglV3qW9hjAugv",
      "include_colab_link": true
    },
    "kernelspec": {
      "name": "python3",
      "display_name": "Python 3"
    },
    "language_info": {
      "name": "python"
    }
  },
  "cells": [
    {
      "cell_type": "markdown",
      "metadata": {
        "id": "view-in-github",
        "colab_type": "text"
      },
      "source": [
        "<a href=\"https://colab.research.google.com/github/jdmartinev/ChatGPTTalks/blob/main/Clase02/Notebooks/c_SintonizacionHiperparametros.ipynb\" target=\"_parent\"><img src=\"https://colab.research.google.com/assets/colab-badge.svg\" alt=\"Open In Colab\"/></a>"
      ]
    },
    {
      "cell_type": "markdown",
      "source": [
        "# __Clase 02 - Árboles de decisión__\n",
        "\n",
        "En este ejercicio, aprenderemos a entrenar árboles de decisión usando ``sklearn`` y sintonizaremos sus hiperparámetros utilizando diferentes estrategias.\n",
        "\n",
        "Thanks to Misra Turp for the base of the notebook:\n",
        "\n",
        "https://github.com/misraturp/Decision-Tree-Implementation/blob/main/Decision%20Trees%20with%20Scikitlearn.ipynb\n",
        "\n"
      ],
      "metadata": {
        "id": "lnb-UN4NUvQN"
      }
    },
    {
      "cell_type": "code",
      "execution_count": null,
      "metadata": {
        "id": "GQKiKwnIQl2D"
      },
      "outputs": [],
      "source": [
        "import pandas as pd\n",
        "import numpy as np\n",
        "from sklearn.datasets import load_breast_cancer"
      ]
    },
    {
      "cell_type": "code",
      "source": [
        "data = load_breast_cancer()\n",
        "dataset = pd.DataFrame(data=data['data'], columns=data['feature_names'])\n",
        "dataset"
      ],
      "metadata": {
        "colab": {
          "base_uri": "https://localhost:8080/",
          "height": 522
        },
        "id": "18CT0d9xVKtF",
        "outputId": "83839d0c-9209-4aa3-aed6-c7c62f1f06f8"
      },
      "execution_count": null,
      "outputs": [
        {
          "output_type": "execute_result",
          "data": {
            "text/plain": [
              "     mean radius  mean texture  mean perimeter  mean area  mean smoothness  \\\n",
              "0          17.99         10.38          122.80     1001.0          0.11840   \n",
              "1          20.57         17.77          132.90     1326.0          0.08474   \n",
              "2          19.69         21.25          130.00     1203.0          0.10960   \n",
              "3          11.42         20.38           77.58      386.1          0.14250   \n",
              "4          20.29         14.34          135.10     1297.0          0.10030   \n",
              "..           ...           ...             ...        ...              ...   \n",
              "564        21.56         22.39          142.00     1479.0          0.11100   \n",
              "565        20.13         28.25          131.20     1261.0          0.09780   \n",
              "566        16.60         28.08          108.30      858.1          0.08455   \n",
              "567        20.60         29.33          140.10     1265.0          0.11780   \n",
              "568         7.76         24.54           47.92      181.0          0.05263   \n",
              "\n",
              "     mean compactness  mean concavity  mean concave points  mean symmetry  \\\n",
              "0             0.27760         0.30010              0.14710         0.2419   \n",
              "1             0.07864         0.08690              0.07017         0.1812   \n",
              "2             0.15990         0.19740              0.12790         0.2069   \n",
              "3             0.28390         0.24140              0.10520         0.2597   \n",
              "4             0.13280         0.19800              0.10430         0.1809   \n",
              "..                ...             ...                  ...            ...   \n",
              "564           0.11590         0.24390              0.13890         0.1726   \n",
              "565           0.10340         0.14400              0.09791         0.1752   \n",
              "566           0.10230         0.09251              0.05302         0.1590   \n",
              "567           0.27700         0.35140              0.15200         0.2397   \n",
              "568           0.04362         0.00000              0.00000         0.1587   \n",
              "\n",
              "     mean fractal dimension  ...  worst radius  worst texture  \\\n",
              "0                   0.07871  ...        25.380          17.33   \n",
              "1                   0.05667  ...        24.990          23.41   \n",
              "2                   0.05999  ...        23.570          25.53   \n",
              "3                   0.09744  ...        14.910          26.50   \n",
              "4                   0.05883  ...        22.540          16.67   \n",
              "..                      ...  ...           ...            ...   \n",
              "564                 0.05623  ...        25.450          26.40   \n",
              "565                 0.05533  ...        23.690          38.25   \n",
              "566                 0.05648  ...        18.980          34.12   \n",
              "567                 0.07016  ...        25.740          39.42   \n",
              "568                 0.05884  ...         9.456          30.37   \n",
              "\n",
              "     worst perimeter  worst area  worst smoothness  worst compactness  \\\n",
              "0             184.60      2019.0           0.16220            0.66560   \n",
              "1             158.80      1956.0           0.12380            0.18660   \n",
              "2             152.50      1709.0           0.14440            0.42450   \n",
              "3              98.87       567.7           0.20980            0.86630   \n",
              "4             152.20      1575.0           0.13740            0.20500   \n",
              "..               ...         ...               ...                ...   \n",
              "564           166.10      2027.0           0.14100            0.21130   \n",
              "565           155.00      1731.0           0.11660            0.19220   \n",
              "566           126.70      1124.0           0.11390            0.30940   \n",
              "567           184.60      1821.0           0.16500            0.86810   \n",
              "568            59.16       268.6           0.08996            0.06444   \n",
              "\n",
              "     worst concavity  worst concave points  worst symmetry  \\\n",
              "0             0.7119                0.2654          0.4601   \n",
              "1             0.2416                0.1860          0.2750   \n",
              "2             0.4504                0.2430          0.3613   \n",
              "3             0.6869                0.2575          0.6638   \n",
              "4             0.4000                0.1625          0.2364   \n",
              "..               ...                   ...             ...   \n",
              "564           0.4107                0.2216          0.2060   \n",
              "565           0.3215                0.1628          0.2572   \n",
              "566           0.3403                0.1418          0.2218   \n",
              "567           0.9387                0.2650          0.4087   \n",
              "568           0.0000                0.0000          0.2871   \n",
              "\n",
              "     worst fractal dimension  \n",
              "0                    0.11890  \n",
              "1                    0.08902  \n",
              "2                    0.08758  \n",
              "3                    0.17300  \n",
              "4                    0.07678  \n",
              "..                       ...  \n",
              "564                  0.07115  \n",
              "565                  0.06637  \n",
              "566                  0.07820  \n",
              "567                  0.12400  \n",
              "568                  0.07039  \n",
              "\n",
              "[569 rows x 30 columns]"
            ],
            "text/html": [
              "\n",
              "\n",
              "  <div id=\"df-1a8ecd82-e513-449e-a268-af5ff1fe4ab1\">\n",
              "    <div class=\"colab-df-container\">\n",
              "      <div>\n",
              "<style scoped>\n",
              "    .dataframe tbody tr th:only-of-type {\n",
              "        vertical-align: middle;\n",
              "    }\n",
              "\n",
              "    .dataframe tbody tr th {\n",
              "        vertical-align: top;\n",
              "    }\n",
              "\n",
              "    .dataframe thead th {\n",
              "        text-align: right;\n",
              "    }\n",
              "</style>\n",
              "<table border=\"1\" class=\"dataframe\">\n",
              "  <thead>\n",
              "    <tr style=\"text-align: right;\">\n",
              "      <th></th>\n",
              "      <th>mean radius</th>\n",
              "      <th>mean texture</th>\n",
              "      <th>mean perimeter</th>\n",
              "      <th>mean area</th>\n",
              "      <th>mean smoothness</th>\n",
              "      <th>mean compactness</th>\n",
              "      <th>mean concavity</th>\n",
              "      <th>mean concave points</th>\n",
              "      <th>mean symmetry</th>\n",
              "      <th>mean fractal dimension</th>\n",
              "      <th>...</th>\n",
              "      <th>worst radius</th>\n",
              "      <th>worst texture</th>\n",
              "      <th>worst perimeter</th>\n",
              "      <th>worst area</th>\n",
              "      <th>worst smoothness</th>\n",
              "      <th>worst compactness</th>\n",
              "      <th>worst concavity</th>\n",
              "      <th>worst concave points</th>\n",
              "      <th>worst symmetry</th>\n",
              "      <th>worst fractal dimension</th>\n",
              "    </tr>\n",
              "  </thead>\n",
              "  <tbody>\n",
              "    <tr>\n",
              "      <th>0</th>\n",
              "      <td>17.99</td>\n",
              "      <td>10.38</td>\n",
              "      <td>122.80</td>\n",
              "      <td>1001.0</td>\n",
              "      <td>0.11840</td>\n",
              "      <td>0.27760</td>\n",
              "      <td>0.30010</td>\n",
              "      <td>0.14710</td>\n",
              "      <td>0.2419</td>\n",
              "      <td>0.07871</td>\n",
              "      <td>...</td>\n",
              "      <td>25.380</td>\n",
              "      <td>17.33</td>\n",
              "      <td>184.60</td>\n",
              "      <td>2019.0</td>\n",
              "      <td>0.16220</td>\n",
              "      <td>0.66560</td>\n",
              "      <td>0.7119</td>\n",
              "      <td>0.2654</td>\n",
              "      <td>0.4601</td>\n",
              "      <td>0.11890</td>\n",
              "    </tr>\n",
              "    <tr>\n",
              "      <th>1</th>\n",
              "      <td>20.57</td>\n",
              "      <td>17.77</td>\n",
              "      <td>132.90</td>\n",
              "      <td>1326.0</td>\n",
              "      <td>0.08474</td>\n",
              "      <td>0.07864</td>\n",
              "      <td>0.08690</td>\n",
              "      <td>0.07017</td>\n",
              "      <td>0.1812</td>\n",
              "      <td>0.05667</td>\n",
              "      <td>...</td>\n",
              "      <td>24.990</td>\n",
              "      <td>23.41</td>\n",
              "      <td>158.80</td>\n",
              "      <td>1956.0</td>\n",
              "      <td>0.12380</td>\n",
              "      <td>0.18660</td>\n",
              "      <td>0.2416</td>\n",
              "      <td>0.1860</td>\n",
              "      <td>0.2750</td>\n",
              "      <td>0.08902</td>\n",
              "    </tr>\n",
              "    <tr>\n",
              "      <th>2</th>\n",
              "      <td>19.69</td>\n",
              "      <td>21.25</td>\n",
              "      <td>130.00</td>\n",
              "      <td>1203.0</td>\n",
              "      <td>0.10960</td>\n",
              "      <td>0.15990</td>\n",
              "      <td>0.19740</td>\n",
              "      <td>0.12790</td>\n",
              "      <td>0.2069</td>\n",
              "      <td>0.05999</td>\n",
              "      <td>...</td>\n",
              "      <td>23.570</td>\n",
              "      <td>25.53</td>\n",
              "      <td>152.50</td>\n",
              "      <td>1709.0</td>\n",
              "      <td>0.14440</td>\n",
              "      <td>0.42450</td>\n",
              "      <td>0.4504</td>\n",
              "      <td>0.2430</td>\n",
              "      <td>0.3613</td>\n",
              "      <td>0.08758</td>\n",
              "    </tr>\n",
              "    <tr>\n",
              "      <th>3</th>\n",
              "      <td>11.42</td>\n",
              "      <td>20.38</td>\n",
              "      <td>77.58</td>\n",
              "      <td>386.1</td>\n",
              "      <td>0.14250</td>\n",
              "      <td>0.28390</td>\n",
              "      <td>0.24140</td>\n",
              "      <td>0.10520</td>\n",
              "      <td>0.2597</td>\n",
              "      <td>0.09744</td>\n",
              "      <td>...</td>\n",
              "      <td>14.910</td>\n",
              "      <td>26.50</td>\n",
              "      <td>98.87</td>\n",
              "      <td>567.7</td>\n",
              "      <td>0.20980</td>\n",
              "      <td>0.86630</td>\n",
              "      <td>0.6869</td>\n",
              "      <td>0.2575</td>\n",
              "      <td>0.6638</td>\n",
              "      <td>0.17300</td>\n",
              "    </tr>\n",
              "    <tr>\n",
              "      <th>4</th>\n",
              "      <td>20.29</td>\n",
              "      <td>14.34</td>\n",
              "      <td>135.10</td>\n",
              "      <td>1297.0</td>\n",
              "      <td>0.10030</td>\n",
              "      <td>0.13280</td>\n",
              "      <td>0.19800</td>\n",
              "      <td>0.10430</td>\n",
              "      <td>0.1809</td>\n",
              "      <td>0.05883</td>\n",
              "      <td>...</td>\n",
              "      <td>22.540</td>\n",
              "      <td>16.67</td>\n",
              "      <td>152.20</td>\n",
              "      <td>1575.0</td>\n",
              "      <td>0.13740</td>\n",
              "      <td>0.20500</td>\n",
              "      <td>0.4000</td>\n",
              "      <td>0.1625</td>\n",
              "      <td>0.2364</td>\n",
              "      <td>0.07678</td>\n",
              "    </tr>\n",
              "    <tr>\n",
              "      <th>...</th>\n",
              "      <td>...</td>\n",
              "      <td>...</td>\n",
              "      <td>...</td>\n",
              "      <td>...</td>\n",
              "      <td>...</td>\n",
              "      <td>...</td>\n",
              "      <td>...</td>\n",
              "      <td>...</td>\n",
              "      <td>...</td>\n",
              "      <td>...</td>\n",
              "      <td>...</td>\n",
              "      <td>...</td>\n",
              "      <td>...</td>\n",
              "      <td>...</td>\n",
              "      <td>...</td>\n",
              "      <td>...</td>\n",
              "      <td>...</td>\n",
              "      <td>...</td>\n",
              "      <td>...</td>\n",
              "      <td>...</td>\n",
              "      <td>...</td>\n",
              "    </tr>\n",
              "    <tr>\n",
              "      <th>564</th>\n",
              "      <td>21.56</td>\n",
              "      <td>22.39</td>\n",
              "      <td>142.00</td>\n",
              "      <td>1479.0</td>\n",
              "      <td>0.11100</td>\n",
              "      <td>0.11590</td>\n",
              "      <td>0.24390</td>\n",
              "      <td>0.13890</td>\n",
              "      <td>0.1726</td>\n",
              "      <td>0.05623</td>\n",
              "      <td>...</td>\n",
              "      <td>25.450</td>\n",
              "      <td>26.40</td>\n",
              "      <td>166.10</td>\n",
              "      <td>2027.0</td>\n",
              "      <td>0.14100</td>\n",
              "      <td>0.21130</td>\n",
              "      <td>0.4107</td>\n",
              "      <td>0.2216</td>\n",
              "      <td>0.2060</td>\n",
              "      <td>0.07115</td>\n",
              "    </tr>\n",
              "    <tr>\n",
              "      <th>565</th>\n",
              "      <td>20.13</td>\n",
              "      <td>28.25</td>\n",
              "      <td>131.20</td>\n",
              "      <td>1261.0</td>\n",
              "      <td>0.09780</td>\n",
              "      <td>0.10340</td>\n",
              "      <td>0.14400</td>\n",
              "      <td>0.09791</td>\n",
              "      <td>0.1752</td>\n",
              "      <td>0.05533</td>\n",
              "      <td>...</td>\n",
              "      <td>23.690</td>\n",
              "      <td>38.25</td>\n",
              "      <td>155.00</td>\n",
              "      <td>1731.0</td>\n",
              "      <td>0.11660</td>\n",
              "      <td>0.19220</td>\n",
              "      <td>0.3215</td>\n",
              "      <td>0.1628</td>\n",
              "      <td>0.2572</td>\n",
              "      <td>0.06637</td>\n",
              "    </tr>\n",
              "    <tr>\n",
              "      <th>566</th>\n",
              "      <td>16.60</td>\n",
              "      <td>28.08</td>\n",
              "      <td>108.30</td>\n",
              "      <td>858.1</td>\n",
              "      <td>0.08455</td>\n",
              "      <td>0.10230</td>\n",
              "      <td>0.09251</td>\n",
              "      <td>0.05302</td>\n",
              "      <td>0.1590</td>\n",
              "      <td>0.05648</td>\n",
              "      <td>...</td>\n",
              "      <td>18.980</td>\n",
              "      <td>34.12</td>\n",
              "      <td>126.70</td>\n",
              "      <td>1124.0</td>\n",
              "      <td>0.11390</td>\n",
              "      <td>0.30940</td>\n",
              "      <td>0.3403</td>\n",
              "      <td>0.1418</td>\n",
              "      <td>0.2218</td>\n",
              "      <td>0.07820</td>\n",
              "    </tr>\n",
              "    <tr>\n",
              "      <th>567</th>\n",
              "      <td>20.60</td>\n",
              "      <td>29.33</td>\n",
              "      <td>140.10</td>\n",
              "      <td>1265.0</td>\n",
              "      <td>0.11780</td>\n",
              "      <td>0.27700</td>\n",
              "      <td>0.35140</td>\n",
              "      <td>0.15200</td>\n",
              "      <td>0.2397</td>\n",
              "      <td>0.07016</td>\n",
              "      <td>...</td>\n",
              "      <td>25.740</td>\n",
              "      <td>39.42</td>\n",
              "      <td>184.60</td>\n",
              "      <td>1821.0</td>\n",
              "      <td>0.16500</td>\n",
              "      <td>0.86810</td>\n",
              "      <td>0.9387</td>\n",
              "      <td>0.2650</td>\n",
              "      <td>0.4087</td>\n",
              "      <td>0.12400</td>\n",
              "    </tr>\n",
              "    <tr>\n",
              "      <th>568</th>\n",
              "      <td>7.76</td>\n",
              "      <td>24.54</td>\n",
              "      <td>47.92</td>\n",
              "      <td>181.0</td>\n",
              "      <td>0.05263</td>\n",
              "      <td>0.04362</td>\n",
              "      <td>0.00000</td>\n",
              "      <td>0.00000</td>\n",
              "      <td>0.1587</td>\n",
              "      <td>0.05884</td>\n",
              "      <td>...</td>\n",
              "      <td>9.456</td>\n",
              "      <td>30.37</td>\n",
              "      <td>59.16</td>\n",
              "      <td>268.6</td>\n",
              "      <td>0.08996</td>\n",
              "      <td>0.06444</td>\n",
              "      <td>0.0000</td>\n",
              "      <td>0.0000</td>\n",
              "      <td>0.2871</td>\n",
              "      <td>0.07039</td>\n",
              "    </tr>\n",
              "  </tbody>\n",
              "</table>\n",
              "<p>569 rows × 30 columns</p>\n",
              "</div>\n",
              "      <button class=\"colab-df-convert\" onclick=\"convertToInteractive('df-1a8ecd82-e513-449e-a268-af5ff1fe4ab1')\"\n",
              "              title=\"Convert this dataframe to an interactive table.\"\n",
              "              style=\"display:none;\">\n",
              "\n",
              "  <svg xmlns=\"http://www.w3.org/2000/svg\" height=\"24px\"viewBox=\"0 0 24 24\"\n",
              "       width=\"24px\">\n",
              "    <path d=\"M0 0h24v24H0V0z\" fill=\"none\"/>\n",
              "    <path d=\"M18.56 5.44l.94 2.06.94-2.06 2.06-.94-2.06-.94-.94-2.06-.94 2.06-2.06.94zm-11 1L8.5 8.5l.94-2.06 2.06-.94-2.06-.94L8.5 2.5l-.94 2.06-2.06.94zm10 10l.94 2.06.94-2.06 2.06-.94-2.06-.94-.94-2.06-.94 2.06-2.06.94z\"/><path d=\"M17.41 7.96l-1.37-1.37c-.4-.4-.92-.59-1.43-.59-.52 0-1.04.2-1.43.59L10.3 9.45l-7.72 7.72c-.78.78-.78 2.05 0 2.83L4 21.41c.39.39.9.59 1.41.59.51 0 1.02-.2 1.41-.59l7.78-7.78 2.81-2.81c.8-.78.8-2.07 0-2.86zM5.41 20L4 18.59l7.72-7.72 1.47 1.35L5.41 20z\"/>\n",
              "  </svg>\n",
              "      </button>\n",
              "\n",
              "\n",
              "\n",
              "    <div id=\"df-b0b700e7-8e5d-4591-bd13-f1a544be5401\">\n",
              "      <button class=\"colab-df-quickchart\" onclick=\"quickchart('df-b0b700e7-8e5d-4591-bd13-f1a544be5401')\"\n",
              "              title=\"Suggest charts.\"\n",
              "              style=\"display:none;\">\n",
              "\n",
              "<svg xmlns=\"http://www.w3.org/2000/svg\" height=\"24px\"viewBox=\"0 0 24 24\"\n",
              "     width=\"24px\">\n",
              "    <g>\n",
              "        <path d=\"M19 3H5c-1.1 0-2 .9-2 2v14c0 1.1.9 2 2 2h14c1.1 0 2-.9 2-2V5c0-1.1-.9-2-2-2zM9 17H7v-7h2v7zm4 0h-2V7h2v10zm4 0h-2v-4h2v4z\"/>\n",
              "    </g>\n",
              "</svg>\n",
              "      </button>\n",
              "    </div>\n",
              "\n",
              "<style>\n",
              "  .colab-df-quickchart {\n",
              "    background-color: #E8F0FE;\n",
              "    border: none;\n",
              "    border-radius: 50%;\n",
              "    cursor: pointer;\n",
              "    display: none;\n",
              "    fill: #1967D2;\n",
              "    height: 32px;\n",
              "    padding: 0 0 0 0;\n",
              "    width: 32px;\n",
              "  }\n",
              "\n",
              "  .colab-df-quickchart:hover {\n",
              "    background-color: #E2EBFA;\n",
              "    box-shadow: 0px 1px 2px rgba(60, 64, 67, 0.3), 0px 1px 3px 1px rgba(60, 64, 67, 0.15);\n",
              "    fill: #174EA6;\n",
              "  }\n",
              "\n",
              "  [theme=dark] .colab-df-quickchart {\n",
              "    background-color: #3B4455;\n",
              "    fill: #D2E3FC;\n",
              "  }\n",
              "\n",
              "  [theme=dark] .colab-df-quickchart:hover {\n",
              "    background-color: #434B5C;\n",
              "    box-shadow: 0px 1px 3px 1px rgba(0, 0, 0, 0.15);\n",
              "    filter: drop-shadow(0px 1px 2px rgba(0, 0, 0, 0.3));\n",
              "    fill: #FFFFFF;\n",
              "  }\n",
              "</style>\n",
              "\n",
              "    <script>\n",
              "      async function quickchart(key) {\n",
              "        const containerElement = document.querySelector('#' + key);\n",
              "        const charts = await google.colab.kernel.invokeFunction(\n",
              "            'suggestCharts', [key], {});\n",
              "      }\n",
              "    </script>\n",
              "\n",
              "      <script>\n",
              "\n",
              "function displayQuickchartButton(domScope) {\n",
              "  let quickchartButtonEl =\n",
              "    domScope.querySelector('#df-b0b700e7-8e5d-4591-bd13-f1a544be5401 button.colab-df-quickchart');\n",
              "  quickchartButtonEl.style.display =\n",
              "    google.colab.kernel.accessAllowed ? 'block' : 'none';\n",
              "}\n",
              "\n",
              "        displayQuickchartButton(document);\n",
              "      </script>\n",
              "      <style>\n",
              "    .colab-df-container {\n",
              "      display:flex;\n",
              "      flex-wrap:wrap;\n",
              "      gap: 12px;\n",
              "    }\n",
              "\n",
              "    .colab-df-convert {\n",
              "      background-color: #E8F0FE;\n",
              "      border: none;\n",
              "      border-radius: 50%;\n",
              "      cursor: pointer;\n",
              "      display: none;\n",
              "      fill: #1967D2;\n",
              "      height: 32px;\n",
              "      padding: 0 0 0 0;\n",
              "      width: 32px;\n",
              "    }\n",
              "\n",
              "    .colab-df-convert:hover {\n",
              "      background-color: #E2EBFA;\n",
              "      box-shadow: 0px 1px 2px rgba(60, 64, 67, 0.3), 0px 1px 3px 1px rgba(60, 64, 67, 0.15);\n",
              "      fill: #174EA6;\n",
              "    }\n",
              "\n",
              "    [theme=dark] .colab-df-convert {\n",
              "      background-color: #3B4455;\n",
              "      fill: #D2E3FC;\n",
              "    }\n",
              "\n",
              "    [theme=dark] .colab-df-convert:hover {\n",
              "      background-color: #434B5C;\n",
              "      box-shadow: 0px 1px 3px 1px rgba(0, 0, 0, 0.15);\n",
              "      filter: drop-shadow(0px 1px 2px rgba(0, 0, 0, 0.3));\n",
              "      fill: #FFFFFF;\n",
              "    }\n",
              "  </style>\n",
              "\n",
              "      <script>\n",
              "        const buttonEl =\n",
              "          document.querySelector('#df-1a8ecd82-e513-449e-a268-af5ff1fe4ab1 button.colab-df-convert');\n",
              "        buttonEl.style.display =\n",
              "          google.colab.kernel.accessAllowed ? 'block' : 'none';\n",
              "\n",
              "        async function convertToInteractive(key) {\n",
              "          const element = document.querySelector('#df-1a8ecd82-e513-449e-a268-af5ff1fe4ab1');\n",
              "          const dataTable =\n",
              "            await google.colab.kernel.invokeFunction('convertToInteractive',\n",
              "                                                     [key], {});\n",
              "          if (!dataTable) return;\n",
              "\n",
              "          const docLinkHtml = 'Like what you see? Visit the ' +\n",
              "            '<a target=\"_blank\" href=https://colab.research.google.com/notebooks/data_table.ipynb>data table notebook</a>'\n",
              "            + ' to learn more about interactive tables.';\n",
              "          element.innerHTML = '';\n",
              "          dataTable['output_type'] = 'display_data';\n",
              "          await google.colab.output.renderOutput(dataTable, element);\n",
              "          const docLink = document.createElement('div');\n",
              "          docLink.innerHTML = docLinkHtml;\n",
              "          element.appendChild(docLink);\n",
              "        }\n",
              "      </script>\n",
              "    </div>\n",
              "  </div>\n"
            ]
          },
          "metadata": {},
          "execution_count": 4
        }
      ]
    },
    {
      "cell_type": "code",
      "source": [
        "from sklearn.model_selection import train_test_split"
      ],
      "metadata": {
        "id": "wvAz205sVcZA"
      },
      "execution_count": null,
      "outputs": []
    },
    {
      "cell_type": "code",
      "execution_count": null,
      "metadata": {
        "id": "uZiIG2a2Vj-y"
      },
      "outputs": [],
      "source": [
        "X = dataset.copy()\n",
        "y = data['target']\n",
        "X_train, X_test, y_train, y_test = train_test_split(X, y, test_size=0.33)"
      ]
    },
    {
      "cell_type": "code",
      "source": [
        "from sklearn.tree import DecisionTreeClassifier"
      ],
      "metadata": {
        "id": "e8jqtDx3Vxi8"
      },
      "execution_count": null,
      "outputs": []
    },
    {
      "cell_type": "code",
      "source": [
        "model = DecisionTreeClassifier(ccp_alpha=0.01)\n",
        "model = model.fit(X_train, y_train)"
      ],
      "metadata": {
        "id": "9lSOdE-dVwHB"
      },
      "execution_count": null,
      "outputs": []
    },
    {
      "cell_type": "code",
      "source": [
        "model.get_params()"
      ],
      "metadata": {
        "colab": {
          "base_uri": "https://localhost:8080/"
        },
        "id": "KDDmSMnfWejA",
        "outputId": "87d2ef9c-c0c2-4395-dc97-47fa14ad0da0"
      },
      "execution_count": null,
      "outputs": [
        {
          "output_type": "execute_result",
          "data": {
            "text/plain": [
              "{'ccp_alpha': 0.01,\n",
              " 'class_weight': None,\n",
              " 'criterion': 'gini',\n",
              " 'max_depth': None,\n",
              " 'max_features': None,\n",
              " 'max_leaf_nodes': None,\n",
              " 'min_impurity_decrease': 0.0,\n",
              " 'min_samples_leaf': 1,\n",
              " 'min_samples_split': 2,\n",
              " 'min_weight_fraction_leaf': 0.0,\n",
              " 'random_state': None,\n",
              " 'splitter': 'best'}"
            ]
          },
          "metadata": {},
          "execution_count": 10
        }
      ]
    },
    {
      "cell_type": "code",
      "source": [
        "predictions = model.predict(X_test)"
      ],
      "metadata": {
        "id": "gnJueSwoWjEV"
      },
      "execution_count": null,
      "outputs": []
    },
    {
      "cell_type": "code",
      "source": [
        "from sklearn.metrics import classification_report\n",
        "from sklearn.metrics import ConfusionMatrixDisplay"
      ],
      "metadata": {
        "id": "Oitph7guWsSy"
      },
      "execution_count": null,
      "outputs": []
    },
    {
      "cell_type": "code",
      "source": [
        "ConfusionMatrixDisplay.from_estimator(model, X_test, y_test)"
      ],
      "metadata": {
        "colab": {
          "base_uri": "https://localhost:8080/",
          "height": 467
        },
        "id": "q2DiY3axWxFc",
        "outputId": "c61e3257-bf9a-45ad-d0b7-1d3725a7638b"
      },
      "execution_count": null,
      "outputs": [
        {
          "output_type": "execute_result",
          "data": {
            "text/plain": [
              "<sklearn.metrics._plot.confusion_matrix.ConfusionMatrixDisplay at 0x7ff746a36110>"
            ]
          },
          "metadata": {},
          "execution_count": 20
        },
        {
          "output_type": "display_data",
          "data": {
            "text/plain": [
              "<Figure size 640x480 with 2 Axes>"
            ],
            "image/png": "[encoded data removed]"
          },
          "metadata": {}
        }
      ]
    },
    {
      "cell_type": "code",
      "source": [
        "print(classification_report(y_test, predictions, target_names=['malignant', 'benign']))"
      ],
      "metadata": {
        "colab": {
          "base_uri": "https://localhost:8080/"
        },
        "id": "APZd0hPXYJAq",
        "outputId": "1c5da522-a53a-4883-ade4-1f5fe2633832"
      },
      "execution_count": null,
      "outputs": [
        {
          "output_type": "stream",
          "name": "stdout",
          "text": [
            "              precision    recall  f1-score   support\n",
            "\n",
            "   malignant       0.81      0.98      0.89        65\n",
            "      benign       0.99      0.88      0.93       123\n",
            "\n",
            "    accuracy                           0.91       188\n",
            "   macro avg       0.90      0.93      0.91       188\n",
            "weighted avg       0.93      0.91      0.92       188\n",
            "\n"
          ]
        }
      ]
    },
    {
      "cell_type": "code",
      "source": [
        "from sklearn.model_selection import GridSearchCV"
      ],
      "metadata": {
        "id": "Om1whQO4YZzd"
      },
      "execution_count": null,
      "outputs": []
    },
    {
      "cell_type": "code",
      "source": [
        "# Define the hyperparameter grid\n",
        "param_grid = {\n",
        "    \"criterion\": [\"gini\", \"entropy\"],\n",
        "    \"max_depth\": [None, 10, 20, 30],\n",
        "    \"min_samples_split\": [2, 5, 10],\n",
        "    \"min_samples_leaf\": [1, 2, 3],\n",
        "}\n",
        "\n",
        "# Create a decision tree classifier object\n",
        "model = DecisionTreeClassifier()\n",
        "\n",
        "# Create the GridSearchCV object\n",
        "best_model = GridSearchCV(estimator=model, param_grid=param_grid, cv=5, verbose=2, n_jobs=-1)\n",
        "\n",
        "# Fit the GridSearchCV object to the data\n",
        "best_model.fit(X_train, y_train)\n",
        "\n",
        "# Get the best parameters\n",
        "best_params = best_model.best_params_\n",
        "\n",
        "print('Best parameters found: ', best_params)\n",
        "\n",
        "# Evaluate the model with best parameters on the test set\n",
        "predictions_best_model = best_model.predict(X_test)"
      ],
      "metadata": {
        "colab": {
          "base_uri": "https://localhost:8080/"
        },
        "id": "pqoZ-fMaYjA8",
        "outputId": "1c35391a-062f-462a-fc1e-baceb7187bbc"
      },
      "execution_count": null,
      "outputs": [
        {
          "output_type": "stream",
          "name": "stdout",
          "text": [
            "Fitting 5 folds for each of 72 candidates, totalling 360 fits\n",
            "Best parameters found:  {'criterion': 'gini', 'max_depth': 20, 'min_samples_leaf': 2, 'min_samples_split': 10}\n"
          ]
        }
      ]
    },
    {
      "cell_type": "code",
      "source": [
        "ConfusionMatrixDisplay.from_estimator(best_model, X_test, y_test)"
      ],
      "metadata": {
        "colab": {
          "base_uri": "https://localhost:8080/",
          "height": 467
        },
        "id": "Y0xWP_R1YzkQ",
        "outputId": "bc333cc3-0027-4e1e-f6a9-e6a5a021e21b"
      },
      "execution_count": null,
      "outputs": [
        {
          "output_type": "execute_result",
          "data": {
            "text/plain": [
              "<sklearn.metrics._plot.confusion_matrix.ConfusionMatrixDisplay at 0x7ff7413d38e0>"
            ]
          },
          "metadata": {},
          "execution_count": 24
        },
        {
          "output_type": "display_data",
          "data": {
            "text/plain": [
              "<Figure size 640x480 with 2 Axes>"
            ],
            "image/png": "[encoded data removed]"
          },
          "metadata": {}
        }
      ]
    },
    {
      "cell_type": "code",
      "source": [
        "print(classification_report(y_test, predictions_best_model, target_names=['malignant', 'benign']))"
      ],
      "metadata": {
        "colab": {
          "base_uri": "https://localhost:8080/"
        },
        "id": "LL3FsGFvY6Pn",
        "outputId": "2ee72021-86f6-4cad-d64b-a2c5d167b233"
      },
      "execution_count": null,
      "outputs": [
        {
          "output_type": "stream",
          "name": "stdout",
          "text": [
            "              precision    recall  f1-score   support\n",
            "\n",
            "   malignant       0.85      0.97      0.91        65\n",
            "      benign       0.98      0.91      0.95       123\n",
            "\n",
            "    accuracy                           0.93       188\n",
            "   macro avg       0.92      0.94      0.93       188\n",
            "weighted avg       0.94      0.93      0.93       188\n",
            "\n"
          ]
        }
      ]
    },
    {
      "cell_type": "code",
      "source": [
        "from sklearn.model_selection import RandomizedSearchCV"
      ],
      "metadata": {
        "id": "W08G2zukZjQs"
      },
      "execution_count": null,
      "outputs": []
    },
    {
      "cell_type": "code",
      "source": [
        "# Define the hyperparameter distribution\n",
        "param_dist = {\n",
        "    \"criterion\": [\"gini\", \"entropy\"],\n",
        "    \"max_depth\": [None] + list(np.arange(2, 50)),\n",
        "    \"min_samples_split\": list(np.arange(2, 50)),\n",
        "    \"min_samples_leaf\": list(np.arange(1, 50)),\n",
        "}\n",
        "\n",
        "# Create a decision tree classifier object\n",
        "model = DecisionTreeClassifier()\n",
        "\n",
        "# Create the RandomizedSearchCV object\n",
        "best_model = RandomizedSearchCV(estimator=model, param_distributions=param_dist, n_iter=100, cv=5, verbose=2, random_state=42, n_jobs=-1)\n",
        "\n",
        "# Fit the RandomizedSearchCV object to the data\n",
        "best_model.fit(X_train, y_train)\n",
        "\n",
        "# Get the best parameters\n",
        "best_params = best_model.best_params_\n",
        "\n",
        "print('Best parameters found: ', best_params)\n",
        "\n",
        "# Evaluate the model with best parameters on the test set\n",
        "predictions_best_model = best_model.predict(X_test)\n"
      ],
      "metadata": {
        "colab": {
          "base_uri": "https://localhost:8080/"
        },
        "id": "rRTEbq4gZj4C",
        "outputId": "166b5a35-a14a-46fa-ea75-94c241db441c"
      },
      "execution_count": null,
      "outputs": [
        {
          "output_type": "stream",
          "name": "stdout",
          "text": [
            "Fitting 5 folds for each of 100 candidates, totalling 500 fits\n",
            "Best parameters found:  {'min_samples_split': 30, 'min_samples_leaf': 5, 'max_depth': 8, 'criterion': 'entropy'}\n"
          ]
        }
      ]
    },
    {
      "cell_type": "code",
      "source": [
        "ConfusionMatrixDisplay.from_estimator(best_model, X_test, y_test)"
      ],
      "metadata": {
        "colab": {
          "base_uri": "https://localhost:8080/",
          "height": 467
        },
        "id": "LmQCK2moZ1N5",
        "outputId": "afac0a34-3edd-42c2-9aca-7543d7537692"
      },
      "execution_count": null,
      "outputs": [
        {
          "output_type": "execute_result",
          "data": {
            "text/plain": [
              "<sklearn.metrics._plot.confusion_matrix.ConfusionMatrixDisplay at 0x7ff746698340>"
            ]
          },
          "metadata": {},
          "execution_count": 30
        },
        {
          "output_type": "display_data",
          "data": {
            "text/plain": [
              "<Figure size 640x480 with 2 Axes>"
            ],
            "image/png": "[encoded data removed]"
          },
          "metadata": {}
        }
      ]
    },
    {
      "cell_type": "code",
      "source": [
        "print(classification_report(y_test, predictions_best_model, target_names=['malignant', 'benign']))"
      ],
      "metadata": {
        "colab": {
          "base_uri": "https://localhost:8080/"
        },
        "id": "xj3xM3euaLz4",
        "outputId": "4cfa5bac-74b0-46db-d887-e6cdd6c4c907"
      },
      "execution_count": null,
      "outputs": [
        {
          "output_type": "stream",
          "name": "stdout",
          "text": [
            "              precision    recall  f1-score   support\n",
            "\n",
            "   malignant       0.83      0.97      0.89        65\n",
            "      benign       0.98      0.89      0.94       123\n",
            "\n",
            "    accuracy                           0.92       188\n",
            "   macro avg       0.91      0.93      0.91       188\n",
            "weighted avg       0.93      0.92      0.92       188\n",
            "\n"
          ]
        }
      ]
    },
    {
      "cell_type": "code",
      "source": [
        "!pip install optuna"
      ],
      "metadata": {
        "colab": {
          "base_uri": "https://localhost:8080/"
        },
        "id": "MnBHzwaqadX2",
        "outputId": "22d889eb-14a5-49ce-d96d-911b95900760"
      },
      "execution_count": null,
      "outputs": [
        {
          "output_type": "stream",
          "name": "stdout",
          "text": [
            "Collecting optuna\n",
            "  Downloading optuna-3.2.0-py3-none-any.whl (390 kB)\n",
            "\u001b[2K     \u001b[90m━━━━━━━━━━━━━━━━━━━━━━━━━━━━━━━━━━━━━━━\u001b[0m \u001b[32m390.6/390.6 kB\u001b[0m \u001b[31m6.7 MB/s\u001b[0m eta \u001b[36m0:00:00\u001b[0m\n",
            "\u001b[?25hCollecting alembic>=1.5.0 (from optuna)\n",
            "  Downloading alembic-1.11.2-py3-none-any.whl (225 kB)\n",
            "\u001b[2K     \u001b[90m━━━━━━━━━━━━━━━━━━━━━━━━━━━━━━━━━━━━━━\u001b[0m \u001b[32m225.3/225.3 kB\u001b[0m \u001b[31m21.8 MB/s\u001b[0m eta \u001b[36m0:00:00\u001b[0m\n",
            "\u001b[?25hCollecting cmaes>=0.9.1 (from optuna)\n",
            "  Downloading cmaes-0.10.0-py3-none-any.whl (29 kB)\n",
            "Collecting colorlog (from optuna)\n",
            "  Downloading colorlog-6.7.0-py2.py3-none-any.whl (11 kB)\n",
            "Requirement already satisfied: numpy in /usr/local/lib/python3.10/dist-packages (from optuna) (1.22.4)\n",
            "Requirement already satisfied: packaging>=20.0 in /usr/local/lib/python3.10/dist-packages (from optuna) (23.1)\n",
            "Requirement already satisfied: sqlalchemy>=1.3.0 in /usr/local/lib/python3.10/dist-packages (from optuna) (2.0.19)\n",
            "Requirement already satisfied: tqdm in /usr/local/lib/python3.10/dist-packages (from optuna) (4.65.0)\n",
            "Requirement already satisfied: PyYAML in /usr/local/lib/python3.10/dist-packages (from optuna) (6.0.1)\n",
            "Collecting Mako (from alembic>=1.5.0->optuna)\n",
            "  Downloading Mako-1.2.4-py3-none-any.whl (78 kB)\n",
            "\u001b[2K     \u001b[90m━━━━━━━━━━━━━━━━━━━━━━━━━━━━━━━━━━━━━━━━\u001b[0m \u001b[32m78.7/78.7 kB\u001b[0m \u001b[31m8.5 MB/s\u001b[0m eta \u001b[36m0:00:00\u001b[0m\n",
            "\u001b[?25hRequirement already satisfied: typing-extensions>=4 in /usr/local/lib/python3.10/dist-packages (from alembic>=1.5.0->optuna) (4.7.1)\n",
            "Requirement already satisfied: greenlet!=0.4.17 in /usr/local/lib/python3.10/dist-packages (from sqlalchemy>=1.3.0->optuna) (2.0.2)\n",
            "Requirement already satisfied: MarkupSafe>=0.9.2 in /usr/local/lib/python3.10/dist-packages (from Mako->alembic>=1.5.0->optuna) (2.1.3)\n",
            "Installing collected packages: Mako, colorlog, cmaes, alembic, optuna\n",
            "Successfully installed Mako-1.2.4 alembic-1.11.2 cmaes-0.10.0 colorlog-6.7.0 optuna-3.2.0\n"
          ]
        }
      ]
    },
    {
      "cell_type": "code",
      "source": [
        "import optuna\n",
        "from sklearn.model_selection import cross_val_score"
      ],
      "metadata": {
        "id": "k_qSHhUPaUGy"
      },
      "execution_count": null,
      "outputs": []
    },
    {
      "cell_type": "code",
      "source": [
        "# Define the objective function to be optimized\n",
        "def objective(trial):\n",
        "    criterion = trial.suggest_categorical(\"criterion\", [\"gini\", \"entropy\"])\n",
        "    max_depth = trial.suggest_int(\"max_depth\", 2, 50)\n",
        "    min_samples_split = trial.suggest_int(\"min_samples_split\", 2, 50)\n",
        "    min_samples_leaf = trial.suggest_int(\"min_samples_leaf\", 1, 50)\n",
        "\n",
        "    model = DecisionTreeClassifier(\n",
        "        criterion=criterion,\n",
        "        max_depth=max_depth,\n",
        "        min_samples_split=min_samples_split,\n",
        "        min_samples_leaf=min_samples_leaf,\n",
        "    )\n",
        "\n",
        "    return cross_val_score(model, X_train, y_train, cv=5, n_jobs=-1).mean()\n",
        "\n",
        "# Create a new study to optimize the classifier's hyperparameters\n",
        "study = optuna.create_study(direction=\"maximize\")\n",
        "\n",
        "# Perform the optimization\n",
        "study.optimize(objective, n_trials=100)\n",
        "\n",
        "# Print the result\n",
        "best_params = study.best_trial.params\n",
        "print('Best parameters found: ', best_params)\n",
        "\n",
        "# Evaluate the model with best parameters on the test set\n",
        "best_model = DecisionTreeClassifier(**best_params)\n",
        "best_model.fit(X_train, y_train)\n",
        "predictions_best_model = best_model.predict(X_test)"
      ],
      "metadata": {
        "colab": {
          "base_uri": "https://localhost:8080/"
        },
        "id": "MFYaQjEzahk1",
        "outputId": "eedaa379-03b5-4c17-9b50-24e6772bafd4"
      },
      "execution_count": null,
      "outputs": [
        {
          "output_type": "stream",
          "name": "stderr",
          "text": [
            "[I 2023-08-05 01:59:28,266] A new study created in memory with name: no-name-965a1995-228c-4f10-8212-517cd72f9df5\n",
            "[I 2023-08-05 01:59:28,416] Trial 0 finished with value: 0.9318181818181819 and parameters: {'criterion': 'entropy', 'max_depth': 32, 'min_samples_split': 40, 'min_samples_leaf': 7}. Best is trial 0 with value: 0.9318181818181819.\n",
            "[I 2023-08-05 01:59:28,527] Trial 1 finished with value: 0.8897812713602187 and parameters: {'criterion': 'entropy', 'max_depth': 4, 'min_samples_split': 19, 'min_samples_leaf': 31}. Best is trial 0 with value: 0.9318181818181819.\n",
            "[I 2023-08-05 01:59:28,593] Trial 2 finished with value: 0.9266233766233766 and parameters: {'criterion': 'gini', 'max_depth': 7, 'min_samples_split': 34, 'min_samples_leaf': 19}. Best is trial 0 with value: 0.9318181818181819.\n",
            "[I 2023-08-05 01:59:28,657] Trial 3 finished with value: 0.9003075871496924 and parameters: {'criterion': 'entropy', 'max_depth': 26, 'min_samples_split': 38, 'min_samples_leaf': 28}. Best is trial 0 with value: 0.9318181818181819.\n",
            "[I 2023-08-05 01:59:28,722] Trial 4 finished with value: 0.9107313738892687 and parameters: {'criterion': 'entropy', 'max_depth': 23, 'min_samples_split': 9, 'min_samples_leaf': 2}. Best is trial 0 with value: 0.9318181818181819.\n",
            "[I 2023-08-05 01:59:28,786] Trial 5 finished with value: 0.926555023923445 and parameters: {'criterion': 'gini', 'max_depth': 29, 'min_samples_split': 40, 'min_samples_leaf': 12}. Best is trial 0 with value: 0.9318181818181819.\n",
            "[I 2023-08-05 01:59:28,850] Trial 6 finished with value: 0.8976760082023241 and parameters: {'criterion': 'gini', 'max_depth': 8, 'min_samples_split': 8, 'min_samples_leaf': 31}. Best is trial 0 with value: 0.9318181818181819.\n",
            "[I 2023-08-05 01:59:28,932] Trial 7 finished with value: 0.8871496924128504 and parameters: {'criterion': 'entropy', 'max_depth': 14, 'min_samples_split': 16, 'min_samples_leaf': 36}. Best is trial 0 with value: 0.9318181818181819.\n",
            "[I 2023-08-05 01:59:29,029] Trial 8 finished with value: 0.9239917976760081 and parameters: {'criterion': 'entropy', 'max_depth': 15, 'min_samples_split': 37, 'min_samples_leaf': 19}. Best is trial 0 with value: 0.9318181818181819.\n",
            "[I 2023-08-05 01:59:29,110] Trial 9 finished with value: 0.9003075871496924 and parameters: {'criterion': 'gini', 'max_depth': 22, 'min_samples_split': 12, 'min_samples_leaf': 27}. Best is trial 0 with value: 0.9318181818181819.\n",
            "[I 2023-08-05 01:59:29,200] Trial 10 finished with value: 0.8871496924128504 and parameters: {'criterion': 'entropy', 'max_depth': 45, 'min_samples_split': 50, 'min_samples_leaf': 46}. Best is trial 0 with value: 0.9318181818181819.\n",
            "[I 2023-08-05 01:59:29,318] Trial 11 finished with value: 0.9134996582365004 and parameters: {'criterion': 'gini', 'max_depth': 37, 'min_samples_split': 28, 'min_samples_leaf': 8}. Best is trial 0 with value: 0.9318181818181819.\n",
            "[I 2023-08-05 01:59:29,425] Trial 12 finished with value: 0.9318865345181134 and parameters: {'criterion': 'gini', 'max_depth': 34, 'min_samples_split': 29, 'min_samples_leaf': 17}. Best is trial 12 with value: 0.9318865345181134.\n",
            "[I 2023-08-05 01:59:29,507] Trial 13 finished with value: 0.926555023923445 and parameters: {'criterion': 'gini', 'max_depth': 35, 'min_samples_split': 48, 'min_samples_leaf': 14}. Best is trial 12 with value: 0.9318865345181134.\n",
            "[I 2023-08-05 01:59:29,590] Trial 14 finished with value: 0.9344497607655502 and parameters: {'criterion': 'entropy', 'max_depth': 46, 'min_samples_split': 28, 'min_samples_leaf': 4}. Best is trial 14 with value: 0.9344497607655502.\n",
            "[I 2023-08-05 01:59:29,697] Trial 15 finished with value: 0.9187628161312371 and parameters: {'criterion': 'gini', 'max_depth': 49, 'min_samples_split': 25, 'min_samples_leaf': 2}. Best is trial 14 with value: 0.9344497607655502.\n",
            "[I 2023-08-05 01:59:29,802] Trial 16 finished with value: 0.9292207792207792 and parameters: {'criterion': 'gini', 'max_depth': 42, 'min_samples_split': 2, 'min_samples_leaf': 20}. Best is trial 14 with value: 0.9344497607655502.\n",
            "[I 2023-08-05 01:59:29,879] Trial 17 finished with value: 0.9344497607655502 and parameters: {'criterion': 'entropy', 'max_depth': 41, 'min_samples_split': 28, 'min_samples_leaf': 13}. Best is trial 14 with value: 0.9344497607655502.\n",
            "[I 2023-08-05 01:59:29,933] Trial 18 finished with value: 0.9318181818181819 and parameters: {'criterion': 'entropy', 'max_depth': 49, 'min_samples_split': 23, 'min_samples_leaf': 8}. Best is trial 14 with value: 0.9344497607655502.\n",
            "[I 2023-08-05 01:59:29,989] Trial 19 finished with value: 0.9318181818181819 and parameters: {'criterion': 'entropy', 'max_depth': 41, 'min_samples_split': 33, 'min_samples_leaf': 2}. Best is trial 14 with value: 0.9344497607655502.\n",
            "[I 2023-08-05 01:59:30,074] Trial 20 finished with value: 0.9318181818181819 and parameters: {'criterion': 'entropy', 'max_depth': 40, 'min_samples_split': 21, 'min_samples_leaf': 12}. Best is trial 14 with value: 0.9344497607655502.\n",
            "[I 2023-08-05 01:59:30,136] Trial 21 finished with value: 0.9370813397129186 and parameters: {'criterion': 'entropy', 'max_depth': 46, 'min_samples_split': 30, 'min_samples_leaf': 15}. Best is trial 21 with value: 0.9370813397129186.\n",
            "[I 2023-08-05 01:59:30,191] Trial 22 finished with value: 0.9266233766233766 and parameters: {'criterion': 'entropy', 'max_depth': 46, 'min_samples_split': 31, 'min_samples_leaf': 23}. Best is trial 21 with value: 0.9370813397129186.\n",
            "[I 2023-08-05 01:59:30,244] Trial 23 finished with value: 0.9318181818181819 and parameters: {'criterion': 'entropy', 'max_depth': 50, 'min_samples_split': 26, 'min_samples_leaf': 7}. Best is trial 21 with value: 0.9370813397129186.\n",
            "[I 2023-08-05 01:59:30,300] Trial 24 finished with value: 0.9318181818181819 and parameters: {'criterion': 'entropy', 'max_depth': 45, 'min_samples_split': 43, 'min_samples_leaf': 14}. Best is trial 21 with value: 0.9370813397129186.\n",
            "[I 2023-08-05 01:59:30,359] Trial 25 finished with value: 0.9344497607655502 and parameters: {'criterion': 'entropy', 'max_depth': 39, 'min_samples_split': 17, 'min_samples_leaf': 11}. Best is trial 21 with value: 0.9370813397129186.\n",
            "[I 2023-08-05 01:59:30,426] Trial 26 finished with value: 0.9318181818181819 and parameters: {'criterion': 'entropy', 'max_depth': 44, 'min_samples_split': 34, 'min_samples_leaf': 5}. Best is trial 21 with value: 0.9370813397129186.\n",
            "[I 2023-08-05 01:59:30,484] Trial 27 finished with value: 0.8871496924128504 and parameters: {'criterion': 'entropy', 'max_depth': 30, 'min_samples_split': 24, 'min_samples_leaf': 49}. Best is trial 21 with value: 0.9370813397129186.\n",
            "[I 2023-08-05 01:59:30,551] Trial 28 finished with value: 0.9318865345181134 and parameters: {'criterion': 'entropy', 'max_depth': 37, 'min_samples_split': 30, 'min_samples_leaf': 16}. Best is trial 21 with value: 0.9370813397129186.\n",
            "[I 2023-08-05 01:59:30,611] Trial 29 finished with value: 0.9266233766233766 and parameters: {'criterion': 'entropy', 'max_depth': 47, 'min_samples_split': 42, 'min_samples_leaf': 22}. Best is trial 21 with value: 0.9370813397129186.\n",
            "[I 2023-08-05 01:59:30,677] Trial 30 finished with value: 0.9318181818181819 and parameters: {'criterion': 'entropy', 'max_depth': 33, 'min_samples_split': 21, 'min_samples_leaf': 9}. Best is trial 21 with value: 0.9370813397129186.\n",
            "[I 2023-08-05 01:59:30,747] Trial 31 finished with value: 0.9264866712235132 and parameters: {'criterion': 'entropy', 'max_depth': 40, 'min_samples_split': 15, 'min_samples_leaf': 5}. Best is trial 21 with value: 0.9370813397129186.\n",
            "[I 2023-08-05 01:59:30,806] Trial 32 finished with value: 0.9318181818181819 and parameters: {'criterion': 'entropy', 'max_depth': 38, 'min_samples_split': 17, 'min_samples_leaf': 11}. Best is trial 21 with value: 0.9370813397129186.\n",
            "[I 2023-08-05 01:59:30,864] Trial 33 finished with value: 0.9318181818181819 and parameters: {'criterion': 'entropy', 'max_depth': 43, 'min_samples_split': 27, 'min_samples_leaf': 5}. Best is trial 21 with value: 0.9370813397129186.\n",
            "[I 2023-08-05 01:59:30,920] Trial 34 finished with value: 0.9318865345181134 and parameters: {'criterion': 'entropy', 'max_depth': 39, 'min_samples_split': 20, 'min_samples_leaf': 16}. Best is trial 21 with value: 0.9370813397129186.\n",
            "[I 2023-08-05 01:59:30,989] Trial 35 finished with value: 0.9344497607655502 and parameters: {'criterion': 'entropy', 'max_depth': 48, 'min_samples_split': 32, 'min_samples_leaf': 11}. Best is trial 21 with value: 0.9370813397129186.\n",
            "[I 2023-08-05 01:59:31,056] Trial 36 finished with value: 0.9344155844155845 and parameters: {'criterion': 'entropy', 'max_depth': 43, 'min_samples_split': 35, 'min_samples_leaf': 1}. Best is trial 21 with value: 0.9370813397129186.\n",
            "[I 2023-08-05 01:59:31,124] Trial 37 finished with value: 0.9344497607655502 and parameters: {'criterion': 'entropy', 'max_depth': 26, 'min_samples_split': 18, 'min_samples_leaf': 14}. Best is trial 21 with value: 0.9370813397129186.\n",
            "[I 2023-08-05 01:59:31,195] Trial 38 finished with value: 0.8871496924128504 and parameters: {'criterion': 'entropy', 'max_depth': 36, 'min_samples_split': 13, 'min_samples_leaf': 39}. Best is trial 21 with value: 0.9370813397129186.\n",
            "[I 2023-08-05 01:59:31,260] Trial 39 finished with value: 0.9318181818181819 and parameters: {'criterion': 'entropy', 'max_depth': 31, 'min_samples_split': 23, 'min_samples_leaf': 5}. Best is trial 21 with value: 0.9370813397129186.\n",
            "[I 2023-08-05 01:59:31,323] Trial 40 finished with value: 0.9003075871496924 and parameters: {'criterion': 'entropy', 'max_depth': 28, 'min_samples_split': 38, 'min_samples_leaf': 24}. Best is trial 21 with value: 0.9370813397129186.\n",
            "[I 2023-08-05 01:59:31,397] Trial 41 finished with value: 0.9344497607655502 and parameters: {'criterion': 'entropy', 'max_depth': 48, 'min_samples_split': 31, 'min_samples_leaf': 10}. Best is trial 21 with value: 0.9370813397129186.\n",
            "[I 2023-08-05 01:59:31,466] Trial 42 finished with value: 0.9239917976760081 and parameters: {'criterion': 'entropy', 'max_depth': 47, 'min_samples_split': 32, 'min_samples_leaf': 19}. Best is trial 21 with value: 0.9370813397129186.\n",
            "[I 2023-08-05 01:59:31,540] Trial 43 finished with value: 0.9318181818181819 and parameters: {'criterion': 'entropy', 'max_depth': 50, 'min_samples_split': 36, 'min_samples_leaf': 11}. Best is trial 21 with value: 0.9370813397129186.\n",
            "[I 2023-08-05 01:59:31,601] Trial 44 finished with value: 0.9344497607655502 and parameters: {'criterion': 'entropy', 'max_depth': 44, 'min_samples_split': 28, 'min_samples_leaf': 7}. Best is trial 21 with value: 0.9370813397129186.\n",
            "[I 2023-08-05 01:59:31,659] Trial 45 finished with value: 0.8897812713602187 and parameters: {'criterion': 'entropy', 'max_depth': 46, 'min_samples_split': 39, 'min_samples_leaf': 31}. Best is trial 21 with value: 0.9370813397129186.\n",
            "[I 2023-08-05 01:59:31,716] Trial 46 finished with value: 0.9318181818181819 and parameters: {'criterion': 'entropy', 'max_depth': 20, 'min_samples_split': 6, 'min_samples_leaf': 13}. Best is trial 21 with value: 0.9370813397129186.\n",
            "[I 2023-08-05 01:59:31,778] Trial 47 finished with value: 0.9318865345181134 and parameters: {'criterion': 'entropy', 'max_depth': 42, 'min_samples_split': 26, 'min_samples_leaf': 16}. Best is trial 21 with value: 0.9370813397129186.\n",
            "[I 2023-08-05 01:59:31,853] Trial 48 finished with value: 0.9187628161312371 and parameters: {'criterion': 'gini', 'max_depth': 48, 'min_samples_split': 30, 'min_samples_leaf': 4}. Best is trial 21 with value: 0.9370813397129186.\n",
            "[I 2023-08-05 01:59:31,912] Trial 49 finished with value: 0.9292549555707449 and parameters: {'criterion': 'entropy', 'max_depth': 41, 'min_samples_split': 33, 'min_samples_leaf': 18}. Best is trial 21 with value: 0.9370813397129186.\n",
            "[I 2023-08-05 01:59:31,973] Trial 50 finished with value: 0.9292207792207792 and parameters: {'criterion': 'gini', 'max_depth': 11, 'min_samples_split': 23, 'min_samples_leaf': 21}. Best is trial 21 with value: 0.9370813397129186.\n",
            "[I 2023-08-05 01:59:32,051] Trial 51 finished with value: 0.9318181818181819 and parameters: {'criterion': 'entropy', 'max_depth': 25, 'min_samples_split': 13, 'min_samples_leaf': 13}. Best is trial 21 with value: 0.9370813397129186.\n",
            "[I 2023-08-05 01:59:32,121] Trial 52 finished with value: 0.9370813397129186 and parameters: {'criterion': 'entropy', 'max_depth': 20, 'min_samples_split': 17, 'min_samples_leaf': 15}. Best is trial 21 with value: 0.9370813397129186.\n",
            "[I 2023-08-05 01:59:32,182] Trial 53 finished with value: 0.9003075871496924 and parameters: {'criterion': 'entropy', 'max_depth': 18, 'min_samples_split': 9, 'min_samples_leaf': 26}. Best is trial 21 with value: 0.9370813397129186.\n",
            "[I 2023-08-05 01:59:32,270] Trial 54 finished with value: 0.9344497607655502 and parameters: {'criterion': 'entropy', 'max_depth': 18, 'min_samples_split': 28, 'min_samples_leaf': 9}. Best is trial 21 with value: 0.9370813397129186.\n",
            "[I 2023-08-05 01:59:32,347] Trial 55 finished with value: 0.9370129870129869 and parameters: {'criterion': 'entropy', 'max_depth': 22, 'min_samples_split': 15, 'min_samples_leaf': 7}. Best is trial 21 with value: 0.9370813397129186.\n",
            "[I 2023-08-05 01:59:32,421] Trial 56 finished with value: 0.9134313055365686 and parameters: {'criterion': 'entropy', 'max_depth': 22, 'min_samples_split': 11, 'min_samples_leaf': 3}. Best is trial 21 with value: 0.9370813397129186.\n",
            "[I 2023-08-05 01:59:32,493] Trial 57 finished with value: 0.9370129870129869 and parameters: {'criterion': 'entropy', 'max_depth': 13, 'min_samples_split': 15, 'min_samples_leaf': 7}. Best is trial 21 with value: 0.9370813397129186.\n",
            "[I 2023-08-05 01:59:32,559] Trial 58 finished with value: 0.9134996582365004 and parameters: {'criterion': 'gini', 'max_depth': 5, 'min_samples_split': 15, 'min_samples_leaf': 6}. Best is trial 21 with value: 0.9370813397129186.\n",
            "[I 2023-08-05 01:59:32,632] Trial 59 finished with value: 0.9370129870129869 and parameters: {'criterion': 'entropy', 'max_depth': 13, 'min_samples_split': 19, 'min_samples_leaf': 8}. Best is trial 21 with value: 0.9370813397129186.\n",
            "[I 2023-08-05 01:59:32,709] Trial 60 finished with value: 0.9370129870129869 and parameters: {'criterion': 'entropy', 'max_depth': 13, 'min_samples_split': 10, 'min_samples_leaf': 8}. Best is trial 21 with value: 0.9370813397129186.\n",
            "[I 2023-08-05 01:59:32,786] Trial 61 finished with value: 0.9291182501708818 and parameters: {'criterion': 'entropy', 'max_depth': 13, 'min_samples_split': 8, 'min_samples_leaf': 7}. Best is trial 21 with value: 0.9370813397129186.\n",
            "[I 2023-08-05 01:59:32,859] Trial 62 finished with value: 0.9029391660970608 and parameters: {'criterion': 'entropy', 'max_depth': 9, 'min_samples_split': 4, 'min_samples_leaf': 3}. Best is trial 21 with value: 0.9370813397129186.\n",
            "[I 2023-08-05 01:59:32,929] Trial 63 finished with value: 0.9396445659603554 and parameters: {'criterion': 'entropy', 'max_depth': 15, 'min_samples_split': 14, 'min_samples_leaf': 9}. Best is trial 63 with value: 0.9396445659603554.\n",
            "[I 2023-08-05 01:59:32,996] Trial 64 finished with value: 0.9370471633629528 and parameters: {'criterion': 'entropy', 'max_depth': 15, 'min_samples_split': 11, 'min_samples_leaf': 9}. Best is trial 63 with value: 0.9396445659603554.\n",
            "[I 2023-08-05 01:59:33,065] Trial 65 finished with value: 0.9318181818181819 and parameters: {'criterion': 'entropy', 'max_depth': 16, 'min_samples_split': 14, 'min_samples_leaf': 9}. Best is trial 63 with value: 0.9396445659603554.\n",
            "[I 2023-08-05 01:59:33,147] Trial 66 finished with value: 0.9369788106630212 and parameters: {'criterion': 'entropy', 'max_depth': 16, 'min_samples_split': 18, 'min_samples_leaf': 1}. Best is trial 63 with value: 0.9396445659603554.\n",
            "[I 2023-08-05 01:59:33,215] Trial 67 finished with value: 0.9370813397129186 and parameters: {'criterion': 'entropy', 'max_depth': 10, 'min_samples_split': 12, 'min_samples_leaf': 15}. Best is trial 63 with value: 0.9396445659603554.\n",
            "[I 2023-08-05 01:59:33,290] Trial 68 finished with value: 0.9370813397129186 and parameters: {'criterion': 'entropy', 'max_depth': 10, 'min_samples_split': 7, 'min_samples_leaf': 15}. Best is trial 63 with value: 0.9396445659603554.\n",
            "[I 2023-08-05 01:59:33,358] Trial 69 finished with value: 0.9318865345181134 and parameters: {'criterion': 'gini', 'max_depth': 10, 'min_samples_split': 6, 'min_samples_leaf': 17}. Best is trial 63 with value: 0.9396445659603554.\n",
            "[I 2023-08-05 01:59:33,433] Trial 70 finished with value: 0.9370813397129186 and parameters: {'criterion': 'entropy', 'max_depth': 7, 'min_samples_split': 11, 'min_samples_leaf': 15}. Best is trial 63 with value: 0.9396445659603554.\n",
            "[I 2023-08-05 01:59:33,498] Trial 71 finished with value: 0.9370813397129186 and parameters: {'criterion': 'entropy', 'max_depth': 5, 'min_samples_split': 11, 'min_samples_leaf': 15}. Best is trial 63 with value: 0.9396445659603554.\n",
            "[I 2023-08-05 01:59:33,557] Trial 72 finished with value: 0.926555023923445 and parameters: {'criterion': 'entropy', 'max_depth': 2, 'min_samples_split': 11, 'min_samples_leaf': 15}. Best is trial 63 with value: 0.9396445659603554.\n",
            "[I 2023-08-05 01:59:33,617] Trial 73 finished with value: 0.9239917976760081 and parameters: {'criterion': 'entropy', 'max_depth': 5, 'min_samples_split': 7, 'min_samples_leaf': 19}. Best is trial 63 with value: 0.9396445659603554.\n",
            "[I 2023-08-05 01:59:33,681] Trial 74 finished with value: 0.8897812713602187 and parameters: {'criterion': 'entropy', 'max_depth': 7, 'min_samples_split': 12, 'min_samples_leaf': 29}. Best is trial 63 with value: 0.9396445659603554.\n",
            "[I 2023-08-05 01:59:33,756] Trial 75 finished with value: 0.9344497607655502 and parameters: {'criterion': 'entropy', 'max_depth': 7, 'min_samples_split': 9, 'min_samples_leaf': 14}. Best is trial 63 with value: 0.9396445659603554.\n",
            "[I 2023-08-05 01:59:33,820] Trial 76 finished with value: 0.9213602187286398 and parameters: {'criterion': 'entropy', 'max_depth': 2, 'min_samples_split': 2, 'min_samples_leaf': 17}. Best is trial 63 with value: 0.9396445659603554.\n",
            "[I 2023-08-05 01:59:33,887] Trial 77 finished with value: 0.9266233766233766 and parameters: {'criterion': 'entropy', 'max_depth': 11, 'min_samples_split': 4, 'min_samples_leaf': 21}. Best is trial 63 with value: 0.9396445659603554.\n",
            "[I 2023-08-05 01:59:33,963] Trial 78 finished with value: 0.9318181818181819 and parameters: {'criterion': 'entropy', 'max_depth': 8, 'min_samples_split': 12, 'min_samples_leaf': 12}. Best is trial 63 with value: 0.9396445659603554.\n",
            "[I 2023-08-05 01:59:34,027] Trial 79 finished with value: 0.9370813397129186 and parameters: {'criterion': 'entropy', 'max_depth': 5, 'min_samples_split': 10, 'min_samples_leaf': 15}. Best is trial 63 with value: 0.9396445659603554.\n",
            "[I 2023-08-05 01:59:34,090] Trial 80 finished with value: 0.9370813397129186 and parameters: {'criterion': 'entropy', 'max_depth': 3, 'min_samples_split': 4, 'min_samples_leaf': 15}. Best is trial 63 with value: 0.9396445659603554.\n",
            "[I 2023-08-05 01:59:34,167] Trial 81 finished with value: 0.9292549555707449 and parameters: {'criterion': 'entropy', 'max_depth': 5, 'min_samples_split': 4, 'min_samples_leaf': 18}. Best is trial 63 with value: 0.9396445659603554.\n",
            "[I 2023-08-05 01:59:34,236] Trial 82 finished with value: 0.9370813397129186 and parameters: {'criterion': 'entropy', 'max_depth': 3, 'min_samples_split': 6, 'min_samples_leaf': 15}. Best is trial 63 with value: 0.9396445659603554.\n",
            "[I 2023-08-05 01:59:34,304] Trial 83 finished with value: 0.9370813397129186 and parameters: {'criterion': 'entropy', 'max_depth': 4, 'min_samples_split': 8, 'min_samples_leaf': 15}. Best is trial 63 with value: 0.9396445659603554.\n",
            "[I 2023-08-05 01:59:34,384] Trial 84 finished with value: 0.9292549555707449 and parameters: {'criterion': 'entropy', 'max_depth': 6, 'min_samples_split': 13, 'min_samples_leaf': 18}. Best is trial 63 with value: 0.9396445659603554.\n",
            "[I 2023-08-05 01:59:34,448] Trial 85 finished with value: 0.9213602187286398 and parameters: {'criterion': 'entropy', 'max_depth': 9, 'min_samples_split': 7, 'min_samples_leaf': 20}. Best is trial 63 with value: 0.9396445659603554.\n",
            "[I 2023-08-05 01:59:34,518] Trial 86 finished with value: 0.9291866028708133 and parameters: {'criterion': 'entropy', 'max_depth': 8, 'min_samples_split': 10, 'min_samples_leaf': 13}. Best is trial 63 with value: 0.9396445659603554.\n",
            "[I 2023-08-05 01:59:34,581] Trial 87 finished with value: 0.9266233766233766 and parameters: {'criterion': 'entropy', 'max_depth': 4, 'min_samples_split': 5, 'min_samples_leaf': 23}. Best is trial 63 with value: 0.9396445659603554.\n",
            "[I 2023-08-05 01:59:34,658] Trial 88 finished with value: 0.9318181818181819 and parameters: {'criterion': 'entropy', 'max_depth': 11, 'min_samples_split': 10, 'min_samples_leaf': 12}. Best is trial 63 with value: 0.9396445659603554.\n",
            "[I 2023-08-05 01:59:34,723] Trial 89 finished with value: 0.9266233766233766 and parameters: {'criterion': 'gini', 'max_depth': 6, 'min_samples_split': 16, 'min_samples_leaf': 16}. Best is trial 63 with value: 0.9396445659603554.\n",
            "[I 2023-08-05 01:59:34,794] Trial 90 finished with value: 0.9318181818181819 and parameters: {'criterion': 'entropy', 'max_depth': 19, 'min_samples_split': 2, 'min_samples_leaf': 10}. Best is trial 63 with value: 0.9396445659603554.\n",
            "[I 2023-08-05 01:59:34,870] Trial 91 finished with value: 0.9318181818181819 and parameters: {'criterion': 'entropy', 'max_depth': 3, 'min_samples_split': 8, 'min_samples_leaf': 14}. Best is trial 63 with value: 0.9396445659603554.\n",
            "[I 2023-08-05 01:59:34,935] Trial 92 finished with value: 0.926555023923445 and parameters: {'criterion': 'entropy', 'max_depth': 2, 'min_samples_split': 5, 'min_samples_leaf': 15}. Best is trial 63 with value: 0.9396445659603554.\n",
            "[I 2023-08-05 01:59:35,000] Trial 93 finished with value: 0.9318865345181134 and parameters: {'criterion': 'entropy', 'max_depth': 6, 'min_samples_split': 6, 'min_samples_leaf': 17}. Best is trial 63 with value: 0.9396445659603554.\n",
            "[I 2023-08-05 01:59:35,088] Trial 94 finished with value: 0.9370813397129186 and parameters: {'criterion': 'entropy', 'max_depth': 3, 'min_samples_split': 9, 'min_samples_leaf': 15}. Best is trial 63 with value: 0.9396445659603554.\n",
            "[I 2023-08-05 01:59:35,148] Trial 95 finished with value: 0.9213602187286398 and parameters: {'criterion': 'entropy', 'max_depth': 24, 'min_samples_split': 3, 'min_samples_leaf': 20}. Best is trial 63 with value: 0.9396445659603554.\n",
            "[I 2023-08-05 01:59:35,212] Trial 96 finished with value: 0.9318181818181819 and parameters: {'criterion': 'entropy', 'max_depth': 9, 'min_samples_split': 12, 'min_samples_leaf': 13}. Best is trial 63 with value: 0.9396445659603554.\n",
            "[I 2023-08-05 01:59:35,281] Trial 97 finished with value: 0.9318865345181134 and parameters: {'criterion': 'entropy', 'max_depth': 4, 'min_samples_split': 14, 'min_samples_leaf': 16}. Best is trial 63 with value: 0.9396445659603554.\n",
            "[I 2023-08-05 01:59:35,361] Trial 98 finished with value: 0.9344497607655502 and parameters: {'criterion': 'entropy', 'max_depth': 12, 'min_samples_split': 10, 'min_samples_leaf': 10}. Best is trial 63 with value: 0.9396445659603554.\n",
            "[I 2023-08-05 01:59:35,424] Trial 99 finished with value: 0.8871496924128504 and parameters: {'criterion': 'entropy', 'max_depth': 7, 'min_samples_split': 17, 'min_samples_leaf': 40}. Best is trial 63 with value: 0.9396445659603554.\n"
          ]
        },
        {
          "output_type": "stream",
          "name": "stdout",
          "text": [
            "Best parameters found:  {'criterion': 'entropy', 'max_depth': 15, 'min_samples_split': 14, 'min_samples_leaf': 9}\n"
          ]
        }
      ]
    },
    {
      "cell_type": "code",
      "source": [
        "ConfusionMatrixDisplay.from_estimator(best_model, X_test, y_test)"
      ],
      "metadata": {
        "colab": {
          "base_uri": "https://localhost:8080/",
          "height": 467
        },
        "id": "ggbv43NNa_4p",
        "outputId": "70cd54eb-01b4-457a-a4ba-bef80df55745"
      },
      "execution_count": null,
      "outputs": [
        {
          "output_type": "execute_result",
          "data": {
            "text/plain": [
              "<sklearn.metrics._plot.confusion_matrix.ConfusionMatrixDisplay at 0x7ff73bcd6e00>"
            ]
          },
          "metadata": {},
          "execution_count": 39
        },
        {
          "output_type": "display_data",
          "data": {
            "text/plain": [
              "<Figure size 640x480 with 2 Axes>"
            ],
            "image/png": "[encoded data removed]"
          },
          "metadata": {}
        }
      ]
    },
    {
      "cell_type": "code",
      "source": [
        "print(classification_report(y_test, predictions_best_model, target_names=['malignant', 'benign']))"
      ],
      "metadata": {
        "id": "pbTBcDzobFlF",
        "outputId": "914f6c62-9f19-4179-ad54-ac7dd00e4e91",
        "colab": {
          "base_uri": "https://localhost:8080/"
        }
      },
      "execution_count": null,
      "outputs": [
        {
          "output_type": "stream",
          "name": "stdout",
          "text": [
            "              precision    recall  f1-score   support\n",
            "\n",
            "   malignant       0.87      0.94      0.90        65\n",
            "      benign       0.97      0.93      0.95       123\n",
            "\n",
            "    accuracy                           0.93       188\n",
            "   macro avg       0.92      0.93      0.92       188\n",
            "weighted avg       0.93      0.93      0.93       188\n",
            "\n"
          ]
        }
      ]
    }
  ]
}