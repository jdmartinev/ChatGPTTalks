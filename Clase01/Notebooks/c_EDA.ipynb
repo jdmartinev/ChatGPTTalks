{
  "nbformat": 4,
  "nbformat_minor": 0,
  "metadata": {
    "colab": {
      "provenance": [],
      "mount_file_id": "17bCTTY4auHScrZhpCttiJR3JGYUH2Okm",
      "authorship_tag": "ABX9TyO8s67UnyeGE74EP5oN5uER",
      "include_colab_link": true
    },
    "kernelspec": {
      "name": "python3",
      "display_name": "Python 3"
    },
    "language_info": {
      "name": "python"
    }
  },
  "cells": [
    {
      "cell_type": "markdown",
      "metadata": {
        "id": "view-in-github",
        "colab_type": "text"
      },
      "source": [
        "<a href=\"https://colab.research.google.com/github/jdmartinev/ChatGPTTalks/blob/main/Clase01/Notebooks/c_EDA.ipynb\" target=\"_parent\"><img src=\"https://colab.research.google.com/assets/colab-badge.svg\" alt=\"Open In Colab\"/></a>"
      ]
    },
    {
      "cell_type": "markdown",
      "source": [
        "# **Clase 1 - Análisis exploratorio de datos (EDA)**\n",
        "\n",
        "En este cuaderno, repasamos los pasos básicos del análisis exploratorio de datos (EDA) que tienen como objetivo descubrir patrones y detectar anomalías que ayuden a tomar decisiones para el desarrollo de modelos de ML en datos tabulares.\n",
        "\n",
        "1. <a href=\"#1\">Leer la base de datos</a>\n",
        "2. <a href=\"#2\">Estadísticas generales</a>\n",
        "3. <a href=\"#3\">Estadísticas univariadas: Graficas básicas</a>\n",
        "4. <a href=\"#4\">Estadísticas multivariadas: Gráficas de dispersión y correlación</a>\n",
        "5. <a href=\"#5\">Manejo de valores faltantes</a>\n",
        "  - <a href=\"#51\">Descartar columnas con valores perdidos</a>\n",
        "  - <a href=\"52\">Descartar filas con valores perdidos</a>\n",
        "  - <a href=\"53\">Imputar valores perdidos con ``pandas``</a>\n",
        "  - <a href=\"54\">Imputar valores perdidos con ``sklenar``</a>"
      ],
      "metadata": {
        "id": "R-M8hsKvP51Y"
      }
    },
    {
      "cell_type": "markdown",
      "source": [
        "## **Datos**\n",
        "En este ejercicio, se trabaja con datos de adopción de mascotas del Austin Animal Center. Se cuenta con dos conjuntos de datos que cubren la entrada y la salida de los animales.\n",
        "\n",
        "Para trabajar con una sola tabla, se unen las tablas de ingreso y salida utilizando la columna \"Animal ID\" y se crea un solo archivo review.csv. Tampoco se consideran animales con múltiples entradas al centro para mantener el conjunto de datos simple.\n",
        "\n",
        "**Descripción de las características:**\n",
        "\n",
        "- __Pet ID:__ ID único de cada mascota.\n",
        "- __Outcome Type:__ Estado de la mascota en el momento de registrar el resultado (0 = no ubicado, 1 = ubicado). Este es el campo a predecir.\n",
        "- __Sex upon Outcome:__ - Sexo de la mascota a la salida del centro.\n",
        "- __Name:__ Nombre de la mascota  \n",
        "- __Found Location:__ - Ubicación de la mascota antes de entrar al centro\n",
        "- __Intake Type:__ - Circunstancias que hicieron que la mascota llegara al centro\n",
        "- __Intake Condition:__ Condiciones de salud de la mascota cuando entró al centro\n",
        "- __Pet Type:__ Tipo de mascota\n",
        "- __Sex upon Intake:__ Sexo de la mascota cuando entró al centro\n",
        "- __Breed__ - Raza de la mascota\n",
        "- __Color__ - Color de la mascota\n",
        "- __Age upon Intake Days:__ Edad de la mascota cuando entró al centro (días)\n",
        "- __Age upon Outcome Days:__ Edad de la mascota cuando salió del centro (días)"
      ],
      "metadata": {
        "id": "vZkN7MPFSqpv"
      }
    },
    {
      "cell_type": "markdown",
      "source": [
        "## 1. <a name=\"1\">Leer la base de datos</a>\n",
        "\n",
        "Vamos a cargar la base de datos en un ``dataframe`` usando ``Pandas``"
      ],
      "metadata": {
        "id": "_B-IqEcroEpM"
      }
    },
    {
      "cell_type": "code",
      "source": [
        "!wget --no-check-certificate 'https://docs.google.com/uc?export=download&id=1w5IeXLpWOCC5TNNPG3hojbvxi_2rd7gL' -O data.csv"
      ],
      "metadata": {
        "colab": {
          "base_uri": "https://localhost:8080/"
        },
        "id": "Yya-z2xfP5n1",
        "outputId": "52aaacf7-7e91-41f4-bdfc-36bd09f4f63d"
      },
      "execution_count": 10,
      "outputs": [
        {
          "output_type": "stream",
          "name": "stdout",
          "text": [
            "--2023-08-08 23:07:51--  https://docs.google.com/uc?export=download&id=1w5IeXLpWOCC5TNNPG3hojbvxi_2rd7gL\n",
            "Resolving docs.google.com (docs.google.com)... 142.251.107.100, 142.251.107.113, 142.251.107.102, ...\n",
            "Connecting to docs.google.com (docs.google.com)|142.251.107.100|:443... connected.\n",
            "HTTP request sent, awaiting response... 303 See Other\n",
            "Location: https://doc-0g-bk-docs.googleusercontent.com/docs/securesc/ha0ro937gcuc7l7deffksulhg5h7mbp1/u30b4836g5tsih0osdbpielvrij72f7q/1691536050000/02109188480849179502/*/1w5IeXLpWOCC5TNNPG3hojbvxi_2rd7gL?e=download&uuid=f460c35a-6792-49c8-b2c1-30af3bb8d9e4 [following]\n",
            "Warning: wildcards not supported in HTTP.\n",
            "--2023-08-08 23:07:51--  https://doc-0g-bk-docs.googleusercontent.com/docs/securesc/ha0ro937gcuc7l7deffksulhg5h7mbp1/u30b4836g5tsih0osdbpielvrij72f7q/1691536050000/02109188480849179502/*/1w5IeXLpWOCC5TNNPG3hojbvxi_2rd7gL?e=download&uuid=f460c35a-6792-49c8-b2c1-30af3bb8d9e4\n",
            "Resolving doc-0g-bk-docs.googleusercontent.com (doc-0g-bk-docs.googleusercontent.com)... 74.125.141.132, 2607:f8b0:400c:c06::84\n",
            "Connecting to doc-0g-bk-docs.googleusercontent.com (doc-0g-bk-docs.googleusercontent.com)|74.125.141.132|:443... connected.\n",
            "HTTP request sent, awaiting response... 200 OK\n",
            "Length: 12529527 (12M) [text/csv]\n",
            "Saving to: ‘data.csv’\n",
            "\n",
            "data.csv            100%[===================>]  11.95M  37.9MB/s    in 0.3s    \n",
            "\n",
            "2023-08-08 23:07:52 (37.9 MB/s) - ‘data.csv’ saved [12529527/12529527]\n",
            "\n"
          ]
        }
      ]
    },
    {
      "cell_type": "code",
      "source": [
        "import pandas as pd\n",
        "import numpy as np\n",
        "\n",
        "import matplotlib.pyplot as plt\n",
        "import seaborn as sns\n",
        "from string import ascii_letters"
      ],
      "metadata": {
        "id": "iOZ3FotrpzCn"
      },
      "execution_count": 2,
      "outputs": []
    },
    {
      "cell_type": "code",
      "source": [
        "# Carga el archivo csv\n",
        "df = pd.read_csv('data.csv')\n",
        "print(f'El tamaño del dataset es: {df.shape}')"
      ],
      "metadata": {
        "colab": {
          "base_uri": "https://localhost:8080/"
        },
        "id": "tMWSVqGwp7lC",
        "outputId": "bf6a07a2-1f9b-4140-a956-f0f9f4b59f55"
      },
      "execution_count": 11,
      "outputs": [
        {
          "output_type": "stream",
          "name": "stdout",
          "text": [
            "El tamaño del dataset es: (95485, 13)\n"
          ]
        }
      ]
    },
    {
      "cell_type": "markdown",
      "source": [
        "## 2. <a name=\"2\">Estadísticas generales</a>\n",
        "Vamos a obtener el número de filas (ejemplos), número de columnas (características) y algunos estadísticos simples de la base de datos"
      ],
      "metadata": {
        "id": "hvfrJZBQqj-B"
      }
    },
    {
      "cell_type": "code",
      "source": [
        "# Imprime las primeras cinco filas\n",
        "# NaN significa que hay valores faltantes\n",
        "df.head()"
      ],
      "metadata": {
        "colab": {
          "base_uri": "https://localhost:8080/",
          "height": 548
        },
        "id": "S6hUr4IjquN8",
        "outputId": "7d274e75-2e08-4f4f-a9c6-a0258c3f7936"
      },
      "execution_count": null,
      "outputs": [
        {
          "output_type": "execute_result",
          "data": {
            "text/plain": [
              "    Pet ID  Outcome Type Sex upon Outcome        Name  \\\n",
              "0  A794011           1.0    Neutered Male       Chunk   \n",
              "1  A776359           1.0    Neutered Male       Gizmo   \n",
              "2  A674754           0.0      Intact Male         NaN   \n",
              "3  A689724           1.0    Neutered Male  *Donatello   \n",
              "4  A680969           1.0    Neutered Male       *Zeus   \n",
              "\n",
              "                        Found Location      Intake Type Intake Condition  \\\n",
              "0                          Austin (TX)  Owner Surrender           Normal   \n",
              "1    7201 Levander Loop in Austin (TX)            Stray           Normal   \n",
              "2        12034 Research in Austin (TX)            Stray          Nursing   \n",
              "3     2300 Waterway Bnd in Austin (TX)            Stray           Normal   \n",
              "4  4701 Staggerbrush Rd in Austin (TX)            Stray          Nursing   \n",
              "\n",
              "  Pet Type Sex upon Intake                    Breed               Color  \\\n",
              "0      Cat   Neutered Male   Domestic Shorthair Mix   Brown Tabby/White   \n",
              "1      Dog     Intact Male  Chihuahua Shorthair Mix         White/Brown   \n",
              "2      Cat     Intact Male   Domestic Shorthair Mix        Orange Tabby   \n",
              "3      Cat     Intact Male   Domestic Shorthair Mix               Black   \n",
              "4      Cat     Intact Male   Domestic Shorthair Mix  White/Orange Tabby   \n",
              "\n",
              "   Age upon Intake Days  Age upon Outcome Days  \n",
              "0                   730                    730  \n",
              "1                   365                    365  \n",
              "2                     6                      6  \n",
              "3                    60                     60  \n",
              "4                     7                     60  "
            ],
            "text/html": [
              "\n",
              "\n",
              "  <div id=\"df-978b04d1-8a6d-4d7b-be4b-63f16030f761\">\n",
              "    <div class=\"colab-df-container\">\n",
              "      <div>\n",
              "<style scoped>\n",
              "    .dataframe tbody tr th:only-of-type {\n",
              "        vertical-align: middle;\n",
              "    }\n",
              "\n",
              "    .dataframe tbody tr th {\n",
              "        vertical-align: top;\n",
              "    }\n",
              "\n",
              "    .dataframe thead th {\n",
              "        text-align: right;\n",
              "    }\n",
              "</style>\n",
              "<table border=\"1\" class=\"dataframe\">\n",
              "  <thead>\n",
              "    <tr style=\"text-align: right;\">\n",
              "      <th></th>\n",
              "      <th>Pet ID</th>\n",
              "      <th>Outcome Type</th>\n",
              "      <th>Sex upon Outcome</th>\n",
              "      <th>Name</th>\n",
              "      <th>Found Location</th>\n",
              "      <th>Intake Type</th>\n",
              "      <th>Intake Condition</th>\n",
              "      <th>Pet Type</th>\n",
              "      <th>Sex upon Intake</th>\n",
              "      <th>Breed</th>\n",
              "      <th>Color</th>\n",
              "      <th>Age upon Intake Days</th>\n",
              "      <th>Age upon Outcome Days</th>\n",
              "    </tr>\n",
              "  </thead>\n",
              "  <tbody>\n",
              "    <tr>\n",
              "      <th>0</th>\n",
              "      <td>A794011</td>\n",
              "      <td>1.0</td>\n",
              "      <td>Neutered Male</td>\n",
              "      <td>Chunk</td>\n",
              "      <td>Austin (TX)</td>\n",
              "      <td>Owner Surrender</td>\n",
              "      <td>Normal</td>\n",
              "      <td>Cat</td>\n",
              "      <td>Neutered Male</td>\n",
              "      <td>Domestic Shorthair Mix</td>\n",
              "      <td>Brown Tabby/White</td>\n",
              "      <td>730</td>\n",
              "      <td>730</td>\n",
              "    </tr>\n",
              "    <tr>\n",
              "      <th>1</th>\n",
              "      <td>A776359</td>\n",
              "      <td>1.0</td>\n",
              "      <td>Neutered Male</td>\n",
              "      <td>Gizmo</td>\n",
              "      <td>7201 Levander Loop in Austin (TX)</td>\n",
              "      <td>Stray</td>\n",
              "      <td>Normal</td>\n",
              "      <td>Dog</td>\n",
              "      <td>Intact Male</td>\n",
              "      <td>Chihuahua Shorthair Mix</td>\n",
              "      <td>White/Brown</td>\n",
              "      <td>365</td>\n",
              "      <td>365</td>\n",
              "    </tr>\n",
              "    <tr>\n",
              "      <th>2</th>\n",
              "      <td>A674754</td>\n",
              "      <td>0.0</td>\n",
              "      <td>Intact Male</td>\n",
              "      <td>NaN</td>\n",
              "      <td>12034 Research in Austin (TX)</td>\n",
              "      <td>Stray</td>\n",
              "      <td>Nursing</td>\n",
              "      <td>Cat</td>\n",
              "      <td>Intact Male</td>\n",
              "      <td>Domestic Shorthair Mix</td>\n",
              "      <td>Orange Tabby</td>\n",
              "      <td>6</td>\n",
              "      <td>6</td>\n",
              "    </tr>\n",
              "    <tr>\n",
              "      <th>3</th>\n",
              "      <td>A689724</td>\n",
              "      <td>1.0</td>\n",
              "      <td>Neutered Male</td>\n",
              "      <td>*Donatello</td>\n",
              "      <td>2300 Waterway Bnd in Austin (TX)</td>\n",
              "      <td>Stray</td>\n",
              "      <td>Normal</td>\n",
              "      <td>Cat</td>\n",
              "      <td>Intact Male</td>\n",
              "      <td>Domestic Shorthair Mix</td>\n",
              "      <td>Black</td>\n",
              "      <td>60</td>\n",
              "      <td>60</td>\n",
              "    </tr>\n",
              "    <tr>\n",
              "      <th>4</th>\n",
              "      <td>A680969</td>\n",
              "      <td>1.0</td>\n",
              "      <td>Neutered Male</td>\n",
              "      <td>*Zeus</td>\n",
              "      <td>4701 Staggerbrush Rd in Austin (TX)</td>\n",
              "      <td>Stray</td>\n",
              "      <td>Nursing</td>\n",
              "      <td>Cat</td>\n",
              "      <td>Intact Male</td>\n",
              "      <td>Domestic Shorthair Mix</td>\n",
              "      <td>White/Orange Tabby</td>\n",
              "      <td>7</td>\n",
              "      <td>60</td>\n",
              "    </tr>\n",
              "  </tbody>\n",
              "</table>\n",
              "</div>\n",
              "      <button class=\"colab-df-convert\" onclick=\"convertToInteractive('df-978b04d1-8a6d-4d7b-be4b-63f16030f761')\"\n",
              "              title=\"Convert this dataframe to an interactive table.\"\n",
              "              style=\"display:none;\">\n",
              "\n",
              "  <svg xmlns=\"http://www.w3.org/2000/svg\" height=\"24px\"viewBox=\"0 0 24 24\"\n",
              "       width=\"24px\">\n",
              "    <path d=\"M0 0h24v24H0V0z\" fill=\"none\"/>\n",
              "    <path d=\"M18.56 5.44l.94 2.06.94-2.06 2.06-.94-2.06-.94-.94-2.06-.94 2.06-2.06.94zm-11 1L8.5 8.5l.94-2.06 2.06-.94-2.06-.94L8.5 2.5l-.94 2.06-2.06.94zm10 10l.94 2.06.94-2.06 2.06-.94-2.06-.94-.94-2.06-.94 2.06-2.06.94z\"/><path d=\"M17.41 7.96l-1.37-1.37c-.4-.4-.92-.59-1.43-.59-.52 0-1.04.2-1.43.59L10.3 9.45l-7.72 7.72c-.78.78-.78 2.05 0 2.83L4 21.41c.39.39.9.59 1.41.59.51 0 1.02-.2 1.41-.59l7.78-7.78 2.81-2.81c.8-.78.8-2.07 0-2.86zM5.41 20L4 18.59l7.72-7.72 1.47 1.35L5.41 20z\"/>\n",
              "  </svg>\n",
              "      </button>\n",
              "\n",
              "\n",
              "\n",
              "    <div id=\"df-f4f26659-ed72-4c2e-8623-38945a3c6cb8\">\n",
              "      <button class=\"colab-df-quickchart\" onclick=\"quickchart('df-f4f26659-ed72-4c2e-8623-38945a3c6cb8')\"\n",
              "              title=\"Suggest charts.\"\n",
              "              style=\"display:none;\">\n",
              "\n",
              "<svg xmlns=\"http://www.w3.org/2000/svg\" height=\"24px\"viewBox=\"0 0 24 24\"\n",
              "     width=\"24px\">\n",
              "    <g>\n",
              "        <path d=\"M19 3H5c-1.1 0-2 .9-2 2v14c0 1.1.9 2 2 2h14c1.1 0 2-.9 2-2V5c0-1.1-.9-2-2-2zM9 17H7v-7h2v7zm4 0h-2V7h2v10zm4 0h-2v-4h2v4z\"/>\n",
              "    </g>\n",
              "</svg>\n",
              "      </button>\n",
              "    </div>\n",
              "\n",
              "<style>\n",
              "  .colab-df-quickchart {\n",
              "    background-color: #E8F0FE;\n",
              "    border: none;\n",
              "    border-radius: 50%;\n",
              "    cursor: pointer;\n",
              "    display: none;\n",
              "    fill: #1967D2;\n",
              "    height: 32px;\n",
              "    padding: 0 0 0 0;\n",
              "    width: 32px;\n",
              "  }\n",
              "\n",
              "  .colab-df-quickchart:hover {\n",
              "    background-color: #E2EBFA;\n",
              "    box-shadow: 0px 1px 2px rgba(60, 64, 67, 0.3), 0px 1px 3px 1px rgba(60, 64, 67, 0.15);\n",
              "    fill: #174EA6;\n",
              "  }\n",
              "\n",
              "  [theme=dark] .colab-df-quickchart {\n",
              "    background-color: #3B4455;\n",
              "    fill: #D2E3FC;\n",
              "  }\n",
              "\n",
              "  [theme=dark] .colab-df-quickchart:hover {\n",
              "    background-color: #434B5C;\n",
              "    box-shadow: 0px 1px 3px 1px rgba(0, 0, 0, 0.15);\n",
              "    filter: drop-shadow(0px 1px 2px rgba(0, 0, 0, 0.3));\n",
              "    fill: #FFFFFF;\n",
              "  }\n",
              "</style>\n",
              "\n",
              "    <script>\n",
              "      async function quickchart(key) {\n",
              "        const containerElement = document.querySelector('#' + key);\n",
              "        const charts = await google.colab.kernel.invokeFunction(\n",
              "            'suggestCharts', [key], {});\n",
              "      }\n",
              "    </script>\n",
              "\n",
              "      <script>\n",
              "\n",
              "function displayQuickchartButton(domScope) {\n",
              "  let quickchartButtonEl =\n",
              "    domScope.querySelector('#df-f4f26659-ed72-4c2e-8623-38945a3c6cb8 button.colab-df-quickchart');\n",
              "  quickchartButtonEl.style.display =\n",
              "    google.colab.kernel.accessAllowed ? 'block' : 'none';\n",
              "}\n",
              "\n",
              "        displayQuickchartButton(document);\n",
              "      </script>\n",
              "      <style>\n",
              "    .colab-df-container {\n",
              "      display:flex;\n",
              "      flex-wrap:wrap;\n",
              "      gap: 12px;\n",
              "    }\n",
              "\n",
              "    .colab-df-convert {\n",
              "      background-color: #E8F0FE;\n",
              "      border: none;\n",
              "      border-radius: 50%;\n",
              "      cursor: pointer;\n",
              "      display: none;\n",
              "      fill: #1967D2;\n",
              "      height: 32px;\n",
              "      padding: 0 0 0 0;\n",
              "      width: 32px;\n",
              "    }\n",
              "\n",
              "    .colab-df-convert:hover {\n",
              "      background-color: #E2EBFA;\n",
              "      box-shadow: 0px 1px 2px rgba(60, 64, 67, 0.3), 0px 1px 3px 1px rgba(60, 64, 67, 0.15);\n",
              "      fill: #174EA6;\n",
              "    }\n",
              "\n",
              "    [theme=dark] .colab-df-convert {\n",
              "      background-color: #3B4455;\n",
              "      fill: #D2E3FC;\n",
              "    }\n",
              "\n",
              "    [theme=dark] .colab-df-convert:hover {\n",
              "      background-color: #434B5C;\n",
              "      box-shadow: 0px 1px 3px 1px rgba(0, 0, 0, 0.15);\n",
              "      filter: drop-shadow(0px 1px 2px rgba(0, 0, 0, 0.3));\n",
              "      fill: #FFFFFF;\n",
              "    }\n",
              "  </style>\n",
              "\n",
              "      <script>\n",
              "        const buttonEl =\n",
              "          document.querySelector('#df-978b04d1-8a6d-4d7b-be4b-63f16030f761 button.colab-df-convert');\n",
              "        buttonEl.style.display =\n",
              "          google.colab.kernel.accessAllowed ? 'block' : 'none';\n",
              "\n",
              "        async function convertToInteractive(key) {\n",
              "          const element = document.querySelector('#df-978b04d1-8a6d-4d7b-be4b-63f16030f761');\n",
              "          const dataTable =\n",
              "            await google.colab.kernel.invokeFunction('convertToInteractive',\n",
              "                                                     [key], {});\n",
              "          if (!dataTable) return;\n",
              "\n",
              "          const docLinkHtml = 'Like what you see? Visit the ' +\n",
              "            '<a target=\"_blank\" href=https://colab.research.google.com/notebooks/data_table.ipynb>data table notebook</a>'\n",
              "            + ' to learn more about interactive tables.';\n",
              "          element.innerHTML = '';\n",
              "          dataTable['output_type'] = 'display_data';\n",
              "          await google.colab.output.renderOutput(dataTable, element);\n",
              "          const docLink = document.createElement('div');\n",
              "          docLink.innerHTML = docLinkHtml;\n",
              "          element.appendChild(docLink);\n",
              "        }\n",
              "      </script>\n",
              "    </div>\n",
              "  </div>\n"
            ]
          },
          "metadata": {},
          "execution_count": 43
        }
      ]
    },
    {
      "cell_type": "code",
      "source": [
        "# Tipos de datos y cantidad de valores no nulos\n",
        "df.info()"
      ],
      "metadata": {
        "colab": {
          "base_uri": "https://localhost:8080/"
        },
        "id": "yTMv7kQnrzHt",
        "outputId": "20ca2bc1-2817-4bfc-e960-aaf65ea30350"
      },
      "execution_count": null,
      "outputs": [
        {
          "output_type": "stream",
          "name": "stdout",
          "text": [
            "<class 'pandas.core.frame.DataFrame'>\n",
            "RangeIndex: 95485 entries, 0 to 95484\n",
            "Data columns (total 13 columns):\n",
            " #   Column                 Non-Null Count  Dtype  \n",
            "---  ------                 --------------  -----  \n",
            " 0   Pet ID                 95485 non-null  object \n",
            " 1   Outcome Type           95485 non-null  float64\n",
            " 2   Sex upon Outcome       95484 non-null  object \n",
            " 3   Name                   59138 non-null  object \n",
            " 4   Found Location         95485 non-null  object \n",
            " 5   Intake Type            95485 non-null  object \n",
            " 6   Intake Condition       95485 non-null  object \n",
            " 7   Pet Type               95485 non-null  object \n",
            " 8   Sex upon Intake        95484 non-null  object \n",
            " 9   Breed                  95485 non-null  object \n",
            " 10  Color                  95485 non-null  object \n",
            " 11  Age upon Intake Days   95485 non-null  int64  \n",
            " 12  Age upon Outcome Days  95485 non-null  int64  \n",
            "dtypes: float64(1), int64(2), object(10)\n",
            "memory usage: 9.5+ MB\n"
          ]
        }
      ]
    },
    {
      "cell_type": "code",
      "source": [
        "# Calcula estadísticas básicas para las columnas numéricas\n",
        "df.describe()"
      ],
      "metadata": {
        "colab": {
          "base_uri": "https://localhost:8080/",
          "height": 300
        },
        "id": "ZiL9Rq6mr9g-",
        "outputId": "fafe4d2e-6c37-4232-baf9-c5abe28a7cc3"
      },
      "execution_count": null,
      "outputs": [
        {
          "output_type": "execute_result",
          "data": {
            "text/plain": [
              "       Outcome Type  Age upon Intake Days  Age upon Outcome Days\n",
              "count  95485.000000          95485.000000           95485.000000\n",
              "mean       0.564005            703.436959             717.757313\n",
              "std        0.495889           1052.252197            1055.023160\n",
              "min        0.000000              0.000000               0.000000\n",
              "25%        0.000000             30.000000              60.000000\n",
              "50%        1.000000            365.000000             365.000000\n",
              "75%        1.000000            730.000000             730.000000\n",
              "max        1.000000           9125.000000            9125.000000"
            ],
            "text/html": [
              "\n",
              "\n",
              "  <div id=\"df-45fbf5bc-1b3b-47e2-b2e8-a94a2ed638c5\">\n",
              "    <div class=\"colab-df-container\">\n",
              "      <div>\n",
              "<style scoped>\n",
              "    .dataframe tbody tr th:only-of-type {\n",
              "        vertical-align: middle;\n",
              "    }\n",
              "\n",
              "    .dataframe tbody tr th {\n",
              "        vertical-align: top;\n",
              "    }\n",
              "\n",
              "    .dataframe thead th {\n",
              "        text-align: right;\n",
              "    }\n",
              "</style>\n",
              "<table border=\"1\" class=\"dataframe\">\n",
              "  <thead>\n",
              "    <tr style=\"text-align: right;\">\n",
              "      <th></th>\n",
              "      <th>Outcome Type</th>\n",
              "      <th>Age upon Intake Days</th>\n",
              "      <th>Age upon Outcome Days</th>\n",
              "    </tr>\n",
              "  </thead>\n",
              "  <tbody>\n",
              "    <tr>\n",
              "      <th>count</th>\n",
              "      <td>95485.000000</td>\n",
              "      <td>95485.000000</td>\n",
              "      <td>95485.000000</td>\n",
              "    </tr>\n",
              "    <tr>\n",
              "      <th>mean</th>\n",
              "      <td>0.564005</td>\n",
              "      <td>703.436959</td>\n",
              "      <td>717.757313</td>\n",
              "    </tr>\n",
              "    <tr>\n",
              "      <th>std</th>\n",
              "      <td>0.495889</td>\n",
              "      <td>1052.252197</td>\n",
              "      <td>1055.023160</td>\n",
              "    </tr>\n",
              "    <tr>\n",
              "      <th>min</th>\n",
              "      <td>0.000000</td>\n",
              "      <td>0.000000</td>\n",
              "      <td>0.000000</td>\n",
              "    </tr>\n",
              "    <tr>\n",
              "      <th>25%</th>\n",
              "      <td>0.000000</td>\n",
              "      <td>30.000000</td>\n",
              "      <td>60.000000</td>\n",
              "    </tr>\n",
              "    <tr>\n",
              "      <th>50%</th>\n",
              "      <td>1.000000</td>\n",
              "      <td>365.000000</td>\n",
              "      <td>365.000000</td>\n",
              "    </tr>\n",
              "    <tr>\n",
              "      <th>75%</th>\n",
              "      <td>1.000000</td>\n",
              "      <td>730.000000</td>\n",
              "      <td>730.000000</td>\n",
              "    </tr>\n",
              "    <tr>\n",
              "      <th>max</th>\n",
              "      <td>1.000000</td>\n",
              "      <td>9125.000000</td>\n",
              "      <td>9125.000000</td>\n",
              "    </tr>\n",
              "  </tbody>\n",
              "</table>\n",
              "</div>\n",
              "      <button class=\"colab-df-convert\" onclick=\"convertToInteractive('df-45fbf5bc-1b3b-47e2-b2e8-a94a2ed638c5')\"\n",
              "              title=\"Convert this dataframe to an interactive table.\"\n",
              "              style=\"display:none;\">\n",
              "\n",
              "  <svg xmlns=\"http://www.w3.org/2000/svg\" height=\"24px\"viewBox=\"0 0 24 24\"\n",
              "       width=\"24px\">\n",
              "    <path d=\"M0 0h24v24H0V0z\" fill=\"none\"/>\n",
              "    <path d=\"M18.56 5.44l.94 2.06.94-2.06 2.06-.94-2.06-.94-.94-2.06-.94 2.06-2.06.94zm-11 1L8.5 8.5l.94-2.06 2.06-.94-2.06-.94L8.5 2.5l-.94 2.06-2.06.94zm10 10l.94 2.06.94-2.06 2.06-.94-2.06-.94-.94-2.06-.94 2.06-2.06.94z\"/><path d=\"M17.41 7.96l-1.37-1.37c-.4-.4-.92-.59-1.43-.59-.52 0-1.04.2-1.43.59L10.3 9.45l-7.72 7.72c-.78.78-.78 2.05 0 2.83L4 21.41c.39.39.9.59 1.41.59.51 0 1.02-.2 1.41-.59l7.78-7.78 2.81-2.81c.8-.78.8-2.07 0-2.86zM5.41 20L4 18.59l7.72-7.72 1.47 1.35L5.41 20z\"/>\n",
              "  </svg>\n",
              "      </button>\n",
              "\n",
              "\n",
              "\n",
              "    <div id=\"df-d52d4753-1e47-4077-b0ab-39be8e3b7af4\">\n",
              "      <button class=\"colab-df-quickchart\" onclick=\"quickchart('df-d52d4753-1e47-4077-b0ab-39be8e3b7af4')\"\n",
              "              title=\"Suggest charts.\"\n",
              "              style=\"display:none;\">\n",
              "\n",
              "<svg xmlns=\"http://www.w3.org/2000/svg\" height=\"24px\"viewBox=\"0 0 24 24\"\n",
              "     width=\"24px\">\n",
              "    <g>\n",
              "        <path d=\"M19 3H5c-1.1 0-2 .9-2 2v14c0 1.1.9 2 2 2h14c1.1 0 2-.9 2-2V5c0-1.1-.9-2-2-2zM9 17H7v-7h2v7zm4 0h-2V7h2v10zm4 0h-2v-4h2v4z\"/>\n",
              "    </g>\n",
              "</svg>\n",
              "      </button>\n",
              "    </div>\n",
              "\n",
              "<style>\n",
              "  .colab-df-quickchart {\n",
              "    background-color: #E8F0FE;\n",
              "    border: none;\n",
              "    border-radius: 50%;\n",
              "    cursor: pointer;\n",
              "    display: none;\n",
              "    fill: #1967D2;\n",
              "    height: 32px;\n",
              "    padding: 0 0 0 0;\n",
              "    width: 32px;\n",
              "  }\n",
              "\n",
              "  .colab-df-quickchart:hover {\n",
              "    background-color: #E2EBFA;\n",
              "    box-shadow: 0px 1px 2px rgba(60, 64, 67, 0.3), 0px 1px 3px 1px rgba(60, 64, 67, 0.15);\n",
              "    fill: #174EA6;\n",
              "  }\n",
              "\n",
              "  [theme=dark] .colab-df-quickchart {\n",
              "    background-color: #3B4455;\n",
              "    fill: #D2E3FC;\n",
              "  }\n",
              "\n",
              "  [theme=dark] .colab-df-quickchart:hover {\n",
              "    background-color: #434B5C;\n",
              "    box-shadow: 0px 1px 3px 1px rgba(0, 0, 0, 0.15);\n",
              "    filter: drop-shadow(0px 1px 2px rgba(0, 0, 0, 0.3));\n",
              "    fill: #FFFFFF;\n",
              "  }\n",
              "</style>\n",
              "\n",
              "    <script>\n",
              "      async function quickchart(key) {\n",
              "        const containerElement = document.querySelector('#' + key);\n",
              "        const charts = await google.colab.kernel.invokeFunction(\n",
              "            'suggestCharts', [key], {});\n",
              "      }\n",
              "    </script>\n",
              "\n",
              "      <script>\n",
              "\n",
              "function displayQuickchartButton(domScope) {\n",
              "  let quickchartButtonEl =\n",
              "    domScope.querySelector('#df-d52d4753-1e47-4077-b0ab-39be8e3b7af4 button.colab-df-quickchart');\n",
              "  quickchartButtonEl.style.display =\n",
              "    google.colab.kernel.accessAllowed ? 'block' : 'none';\n",
              "}\n",
              "\n",
              "        displayQuickchartButton(document);\n",
              "      </script>\n",
              "      <style>\n",
              "    .colab-df-container {\n",
              "      display:flex;\n",
              "      flex-wrap:wrap;\n",
              "      gap: 12px;\n",
              "    }\n",
              "\n",
              "    .colab-df-convert {\n",
              "      background-color: #E8F0FE;\n",
              "      border: none;\n",
              "      border-radius: 50%;\n",
              "      cursor: pointer;\n",
              "      display: none;\n",
              "      fill: #1967D2;\n",
              "      height: 32px;\n",
              "      padding: 0 0 0 0;\n",
              "      width: 32px;\n",
              "    }\n",
              "\n",
              "    .colab-df-convert:hover {\n",
              "      background-color: #E2EBFA;\n",
              "      box-shadow: 0px 1px 2px rgba(60, 64, 67, 0.3), 0px 1px 3px 1px rgba(60, 64, 67, 0.15);\n",
              "      fill: #174EA6;\n",
              "    }\n",
              "\n",
              "    [theme=dark] .colab-df-convert {\n",
              "      background-color: #3B4455;\n",
              "      fill: #D2E3FC;\n",
              "    }\n",
              "\n",
              "    [theme=dark] .colab-df-convert:hover {\n",
              "      background-color: #434B5C;\n",
              "      box-shadow: 0px 1px 3px 1px rgba(0, 0, 0, 0.15);\n",
              "      filter: drop-shadow(0px 1px 2px rgba(0, 0, 0, 0.3));\n",
              "      fill: #FFFFFF;\n",
              "    }\n",
              "  </style>\n",
              "\n",
              "      <script>\n",
              "        const buttonEl =\n",
              "          document.querySelector('#df-45fbf5bc-1b3b-47e2-b2e8-a94a2ed638c5 button.colab-df-convert');\n",
              "        buttonEl.style.display =\n",
              "          google.colab.kernel.accessAllowed ? 'block' : 'none';\n",
              "\n",
              "        async function convertToInteractive(key) {\n",
              "          const element = document.querySelector('#df-45fbf5bc-1b3b-47e2-b2e8-a94a2ed638c5');\n",
              "          const dataTable =\n",
              "            await google.colab.kernel.invokeFunction('convertToInteractive',\n",
              "                                                     [key], {});\n",
              "          if (!dataTable) return;\n",
              "\n",
              "          const docLinkHtml = 'Like what you see? Visit the ' +\n",
              "            '<a target=\"_blank\" href=https://colab.research.google.com/notebooks/data_table.ipynb>data table notebook</a>'\n",
              "            + ' to learn more about interactive tables.';\n",
              "          element.innerHTML = '';\n",
              "          dataTable['output_type'] = 'display_data';\n",
              "          await google.colab.output.renderOutput(dataTable, element);\n",
              "          const docLink = document.createElement('div');\n",
              "          docLink.innerHTML = docLinkHtml;\n",
              "          element.appendChild(docLink);\n",
              "        }\n",
              "      </script>\n",
              "    </div>\n",
              "  </div>\n"
            ]
          },
          "metadata": {},
          "execution_count": 45
        }
      ]
    },
    {
      "cell_type": "markdown",
      "source": [
        "Separemos las características de la variable objetivo"
      ],
      "metadata": {
        "id": "vAf_EjMmsX5V"
      }
    },
    {
      "cell_type": "code",
      "source": [
        "print(df.columns)"
      ],
      "metadata": {
        "colab": {
          "base_uri": "https://localhost:8080/"
        },
        "id": "g5SmtHVMsW4e",
        "outputId": "ca2d1c7a-922a-4238-d1b5-50f48fbc8fe5"
      },
      "execution_count": null,
      "outputs": [
        {
          "output_type": "stream",
          "name": "stdout",
          "text": [
            "Index(['Pet ID', 'Outcome Type', 'Sex upon Outcome', 'Name', 'Found Location',\n",
            "       'Intake Type', 'Intake Condition', 'Pet Type', 'Sex upon Intake',\n",
            "       'Breed', 'Color', 'Age upon Intake Days', 'Age upon Outcome Days'],\n",
            "      dtype='object')\n"
          ]
        }
      ]
    },
    {
      "cell_type": "code",
      "source": [
        "model_features = df.columns.drop('Outcome Type')\n",
        "model_target = 'Outcome Type'\n",
        "\n",
        "print('Model features: ', model_features)\n",
        "print('Model target: ', model_target)"
      ],
      "metadata": {
        "colab": {
          "base_uri": "https://localhost:8080/"
        },
        "id": "ilKEaCWWsfzS",
        "outputId": "0e77d0a2-5e22-4875-c305-397f1e21d654"
      },
      "execution_count": null,
      "outputs": [
        {
          "output_type": "stream",
          "name": "stdout",
          "text": [
            "Model features:  Index(['Pet ID', 'Sex upon Outcome', 'Name', 'Found Location', 'Intake Type',\n",
            "       'Intake Condition', 'Pet Type', 'Sex upon Intake', 'Breed', 'Color',\n",
            "       'Age upon Intake Days', 'Age upon Outcome Days'],\n",
            "      dtype='object')\n",
            "Model target:  Outcome Type\n"
          ]
        }
      ]
    },
    {
      "cell_type": "markdown",
      "source": [
        "Podemos explorar más a fondo el conjunto de características, separandolas entre características numéricas y categóricas. Tenga en cuenta que algunas características con valores enteros, a pesar de ser numéricas, pueden ser categóricas, y algunas variables categóricas pueden ser texto.\n",
        "\n"
      ],
      "metadata": {
        "id": "zItrgGrrs6x8"
      }
    },
    {
      "cell_type": "code",
      "source": [
        "numerical_features_all = df[model_features].select_dtypes(include=np.number).columns\n",
        "print('Numerical columns:',numerical_features_all)\n",
        "\n",
        "print('')\n",
        "\n",
        "categorical_features_all = df[model_features].select_dtypes(include='object').columns\n",
        "print('Categorical columns:',categorical_features_all)"
      ],
      "metadata": {
        "colab": {
          "base_uri": "https://localhost:8080/"
        },
        "id": "-Uv2-ddktgds",
        "outputId": "93366c27-f336-40dd-c745-2607ef61fb26"
      },
      "execution_count": null,
      "outputs": [
        {
          "output_type": "stream",
          "name": "stdout",
          "text": [
            "Numerical columns: Index(['Age upon Intake Days', 'Age upon Outcome Days'], dtype='object')\n",
            "\n",
            "Categorical columns: Index(['Pet ID', 'Sex upon Outcome', 'Name', 'Found Location', 'Intake Type',\n",
            "       'Intake Condition', 'Pet Type', 'Sex upon Intake', 'Breed', 'Color'],\n",
            "      dtype='object')\n"
          ]
        }
      ]
    },
    {
      "cell_type": "markdown",
      "source": [
        "## 3. <a name=\"3\">Estadística univariada: Gráficas básicas</a>\n",
        "\n",
        "En esta sección, se examinarán los datos con gráficas. __Nota:__ Estas gráficas igonar valores faltantes o nulos. Se aprenderá a trabajar con datos faltantes en la próxima sección.\n",
        "\n",
        "__Bar plots:__ Estas gráficas muestran conteos en variables categóricas. La función ``value_counts()`` calcula los conteos para cada valor único.\n",
        "\n",
        "Primero, se calcula la distribución de la variable objetivo"
      ],
      "metadata": {
        "id": "msfjvjjmt0tX"
      }
    },
    {
      "cell_type": "code",
      "source": [
        "df[model_target].value_counts()"
      ],
      "metadata": {
        "colab": {
          "base_uri": "https://localhost:8080/"
        },
        "id": "dnPMWKACvr1j",
        "outputId": "acb4d885-48f2-4a82-a4ef-2f364b28be52"
      },
      "execution_count": null,
      "outputs": [
        {
          "output_type": "execute_result",
          "data": {
            "text/plain": [
              "1.0    53854\n",
              "0.0    41631\n",
              "Name: Outcome Type, dtype: int64"
            ]
          },
          "metadata": {},
          "execution_count": 10
        }
      ]
    },
    {
      "cell_type": "markdown",
      "source": [
        "Para hacer la gráfica se utilizará la función ``plot.bar`` de ``matplotlib.pyplot``"
      ],
      "metadata": {
        "id": "0qxNG9L3vye5"
      }
    },
    {
      "cell_type": "code",
      "source": [
        "df[model_target].value_counts().plot.bar()\n",
        "plt.show()"
      ],
      "metadata": {
        "colab": {
          "base_uri": "https://localhost:8080/",
          "height": 443
        },
        "id": "aPPg6wk7v9EP",
        "outputId": "82010636-dc4c-42a6-fb12-078299735e86"
      },
      "execution_count": null,
      "outputs": [
        {
          "output_type": "display_data",
          "data": {
            "text/plain": [
              "<Figure size 640x480 with 1 Axes>"
            ],
            "image/png": "[encoded data removed]"
          },
          "metadata": {}
        }
      ]
    },
    {
      "cell_type": "markdown",
      "source": [
        "Ahora se calcula la distribución de todas las variables categóricas"
      ],
      "metadata": {
        "id": "irAqb6K_wn33"
      }
    },
    {
      "cell_type": "code",
      "source": [
        "for c in categorical_features_all:\n",
        "  print(df[c].value_counts())"
      ],
      "metadata": {
        "colab": {
          "base_uri": "https://localhost:8080/"
        },
        "id": "ruFW3rTtwwme",
        "outputId": "99b76cec-7df5-4005-cb4c-bcac84a62d38"
      },
      "execution_count": null,
      "outputs": [
        {
          "output_type": "stream",
          "name": "stdout",
          "text": [
            "A794011    1\n",
            "A666713    1\n",
            "A725018    1\n",
            "A757574    1\n",
            "A737442    1\n",
            "          ..\n",
            "A758938    1\n",
            "A779434    1\n",
            "A699290    1\n",
            "A779183    1\n",
            "A815419    1\n",
            "Name: Pet ID, Length: 95485, dtype: int64\n",
            "Neutered Male    30244\n",
            "Spayed Female    28145\n",
            "Intact Female    13724\n",
            "Intact Male      13646\n",
            "Unknown           9725\n",
            "Name: Sex upon Outcome, dtype: int64\n",
            "Bella          338\n",
            "Luna           313\n",
            "Max            311\n",
            "Daisy          239\n",
            "Lucy           223\n",
            "              ... \n",
            "Ewok             1\n",
            "*Clouseau        1\n",
            "*Minky           1\n",
            "Tigger Lily      1\n",
            "*Squanchy        1\n",
            "Name: Name, Length: 17468, dtype: int64\n",
            "Austin (TX)                                  14833\n",
            "Travis (TX)                                   1402\n",
            "7201 Levander Loop in Austin (TX)              644\n",
            "Outside Jurisdiction                           607\n",
            "Del Valle (TX)                                 426\n",
            "                                             ...  \n",
            "Cherry Creek On  Brodie Ln in Austin (TX)        1\n",
            "Cameron Rd At Parmer Ln in Austin (TX)           1\n",
            "303 W. Mlk in Austin (TX)                        1\n",
            "131 Totvia  Drive in Bastrop (TX)                1\n",
            "1311 Hyman in Austin (TX)                        1\n",
            "Name: Found Location, Length: 43951, dtype: int64\n",
            "Stray                 70203\n",
            "Owner Surrender       15146\n",
            "Public Assist          5236\n",
            "Wildlife               4554\n",
            "Euthanasia Request      235\n",
            "Abandoned               111\n",
            "Name: Intake Type, dtype: int64\n",
            "Normal      81912\n",
            "Injured      5386\n",
            "Sick         4291\n",
            "Nursing      3172\n",
            "Aged          352\n",
            "Other         189\n",
            "Feral          97\n",
            "Pregnant       63\n",
            "Medical        21\n",
            "Behavior        2\n",
            "Name: Intake Condition, dtype: int64\n",
            "Dog          48719\n",
            "Cat          40082\n",
            "Other         6115\n",
            "Bird           553\n",
            "Livestock       16\n",
            "Name: Pet Type, dtype: int64\n",
            "Intact Male      33369\n",
            "Intact Female    32515\n",
            "Neutered Male    10521\n",
            "Unknown           9725\n",
            "Spayed Female     9354\n",
            "Name: Sex upon Intake, dtype: int64\n",
            "Domestic Shorthair Mix                    27689\n",
            "Domestic Shorthair                         5076\n",
            "Pit Bull Mix                               5017\n",
            "Chihuahua Shorthair Mix                    4963\n",
            "Labrador Retriever Mix                     4789\n",
            "                                          ...  \n",
            "Carolina Dog/Border Collie                    1\n",
            "Swedish Vallhund                              1\n",
            "Plott Hound/Dachshund                         1\n",
            "Miniature Schnauzer/Labrador Retriever        1\n",
            "Airedale Terrier/Standard Poodle              1\n",
            "Name: Breed, Length: 2395, dtype: int64\n",
            "Black/White                9688\n",
            "Black                      8528\n",
            "Brown Tabby                6077\n",
            "Brown                      4440\n",
            "White                      3312\n",
            "                           ... \n",
            "Chocolate/Gold                1\n",
            "Torbie/Calico                 1\n",
            "Yellow/Red                    1\n",
            "Orange/Gray                   1\n",
            "Tortie Point/Seal Point       1\n",
            "Name: Color, Length: 567, dtype: int64\n"
          ]
        }
      ]
    },
    {
      "cell_type": "markdown",
      "source": [
        "Basándonos en el número de valores únicos (los ID únicos, por ejemplo, no serán muy útiles para visualizar), para algunas características categóricas, veamos algunas visualizaciones de gráficos de barras. Por simplicidad y rapidez, aquí solo mostramos gráficos de barras para aquellas características con menos de 50 valores únicos."
      ],
      "metadata": {
        "id": "k5y-mTXHxGHV"
      }
    },
    {
      "cell_type": "code",
      "source": [
        "for c in categorical_features_all:\n",
        "    if len(df[c].value_counts()) < 50:\n",
        "        print(c)\n",
        "        df[c].value_counts().plot.bar()\n",
        "        plt.show()"
      ],
      "metadata": {
        "colab": {
          "base_uri": "https://localhost:8080/",
          "height": 1000
        },
        "id": "cIt8c-3rxY47",
        "outputId": "0d22adcb-f13a-49f5-928c-80007433d689"
      },
      "execution_count": null,
      "outputs": [
        {
          "output_type": "stream",
          "name": "stdout",
          "text": [
            "Sex upon Outcome\n"
          ]
        },
        {
          "output_type": "display_data",
          "data": {
            "text/plain": [
              "<Figure size 640x480 with 1 Axes>"
            ],
            "image/png": "[encoded data removed]"
          },
          "metadata": {}
        },
        {
          "output_type": "stream",
          "name": "stdout",
          "text": [
            "Intake Type\n"
          ]
        },
        {
          "output_type": "display_data",
          "data": {
            "text/plain": [
              "<Figure size 640x480 with 1 Axes>"
            ],
            "image/png": "[encoded data removed]"
          },
          "metadata": {}
        },
        {
          "output_type": "stream",
          "name": "stdout",
          "text": [
            "Intake Condition\n"
          ]
        },
        {
          "output_type": "display_data",
          "data": {
            "text/plain": [
              "<Figure size 640x480 with 1 Axes>"
            ],
            "image/png": "[encoded data removed]"
          },
          "metadata": {}
        },
        {
          "output_type": "stream",
          "name": "stdout",
          "text": [
            "Pet Type\n"
          ]
        },
        {
          "output_type": "display_data",
          "data": {
            "text/plain": [
              "<Figure size 640x480 with 1 Axes>"
            ],
            "image/png": "[encoded data removed]"
          },
          "metadata": {}
        },
        {
          "output_type": "stream",
          "name": "stdout",
          "text": [
            "Sex upon Intake\n"
          ]
        },
        {
          "output_type": "display_data",
          "data": {
            "text/plain": [
              "<Figure size 640x480 with 1 Axes>"
            ],
            "image/png": "[encoded data removed]"
          },
          "metadata": {}
        }
      ]
    },
    {
      "cell_type": "markdown",
      "source": [
        "__Histogramas:__ Los histogramas muestran la distribución de las características numéricas. Los datos se dividen en _bins_"
      ],
      "metadata": {
        "id": "j0Z39dtIxfQj"
      }
    },
    {
      "cell_type": "code",
      "source": [
        "for c in numerical_features_all:\n",
        "    print(c)\n",
        "    df[c].plot.hist(bins=5)\n",
        "    plt.show()"
      ],
      "metadata": {
        "colab": {
          "base_uri": "https://localhost:8080/",
          "height": 878
        },
        "id": "ic0zUc3exwdt",
        "outputId": "9c66b529-5583-448b-a4d9-396ce1cdf69d"
      },
      "execution_count": null,
      "outputs": [
        {
          "output_type": "stream",
          "name": "stdout",
          "text": [
            "Age upon Intake Days\n"
          ]
        },
        {
          "output_type": "display_data",
          "data": {
            "text/plain": [
              "<Figure size 640x480 with 1 Axes>"
            ],
            "image/png": "[encoded data removed]"
          },
          "metadata": {}
        },
        {
          "output_type": "stream",
          "name": "stdout",
          "text": [
            "Age upon Outcome Days\n"
          ]
        },
        {
          "output_type": "display_data",
          "data": {
            "text/plain": [
              "<Figure size 640x480 with 1 Axes>"
            ],
            "image/png": "[encoded data removed]"
          },
          "metadata": {}
        }
      ]
    },
    {
      "cell_type": "markdown",
      "source": [
        "Si para algunos histogramas los valores están fuertemente ubicados en el primer intervalo, es bueno revisar los valores atípicos, ya sea verificando los valores mínimos y máximos de esas características particulares y/o explorando rangos de valores."
      ],
      "metadata": {
        "id": "qzUOhTzhx7WQ"
      }
    },
    {
      "cell_type": "code",
      "source": [
        "for c in numerical_features_all:\n",
        "    print(c)\n",
        "    print('min:', df[c].min(), 'max:', df[c].max())"
      ],
      "metadata": {
        "colab": {
          "base_uri": "https://localhost:8080/"
        },
        "id": "odIF7PnPx9Lu",
        "outputId": "a1ac8001-9be3-461d-ca62-dcc6b68c27a6"
      },
      "execution_count": null,
      "outputs": [
        {
          "output_type": "stream",
          "name": "stdout",
          "text": [
            "Age upon Intake Days\n",
            "min: 0 max: 9125\n",
            "Age upon Outcome Days\n",
            "min: 0 max: 9125\n"
          ]
        }
      ]
    },
    {
      "cell_type": "markdown",
      "source": [
        "Con la función ``value_counts()`` se puede incrementar el número de _bins_ de los histogramas a 10 para tener una vista más refinada de las características numéricas."
      ],
      "metadata": {
        "id": "DBTE9Lfsyaju"
      }
    },
    {
      "cell_type": "code",
      "source": [
        "for c in numerical_features_all:\n",
        "    print(c)\n",
        "    print(df[c].value_counts(bins=10, sort=False))\n",
        "    plt.show()"
      ],
      "metadata": {
        "colab": {
          "base_uri": "https://localhost:8080/"
        },
        "id": "niKbcavWyv-L",
        "outputId": "a6e9f0c6-2829-406b-c00d-5617fbefac0d"
      },
      "execution_count": null,
      "outputs": [
        {
          "output_type": "stream",
          "name": "stdout",
          "text": [
            "Age upon Intake Days\n",
            "(-9.126, 912.5]     74835\n",
            "(912.5, 1825.0]     10647\n",
            "(1825.0, 2737.5]     3471\n",
            "(2737.5, 3650.0]     3998\n",
            "(3650.0, 4562.5]     1234\n",
            "(4562.5, 5475.0]     1031\n",
            "(5475.0, 6387.5]      183\n",
            "(6387.5, 7300.0]       79\n",
            "(7300.0, 8212.5]        5\n",
            "(8212.5, 9125.0]        2\n",
            "Name: Age upon Intake Days, dtype: int64\n",
            "Age upon Outcome Days\n",
            "(-9.126, 912.5]     74642\n",
            "(912.5, 1825.0]     10699\n",
            "(1825.0, 2737.5]     3465\n",
            "(2737.5, 3650.0]     4080\n",
            "(3650.0, 4562.5]     1263\n",
            "(4562.5, 5475.0]     1061\n",
            "(5475.0, 6387.5]      187\n",
            "(6387.5, 7300.0]       81\n",
            "(7300.0, 8212.5]        5\n",
            "(8212.5, 9125.0]        2\n",
            "Name: Age upon Outcome Days, dtype: int64\n"
          ]
        }
      ]
    },
    {
      "cell_type": "markdown",
      "source": [
        "Si se identifican outliers (valores muy probablemente erróneos) eliminarlos podría mejorar los histogramas y, posteriormente, el rendimiento general del modelo. Si bien una buena regla general es que cualquier valor que no esté en el rango de (Q1 - 1.5 IQR) y (Q3 + 1.5 IQR) es un outlier, también deben considerarse otras reglas para eliminar outliers. Por ejemplo, eliminar cualquier valor en el 1% superior."
      ],
      "metadata": {
        "id": "_Ypo19ocy9Ju"
      }
    },
    {
      "cell_type": "code",
      "source": [
        "for c in numerical_features_all:\n",
        "    print(c)\n",
        "\n",
        "    # Drop values below Q1 - 1.5 IQR and beyond Q3 + 1.5 IQR\n",
        "    #Q1 = df[c].quantile(0.25)\n",
        "    #Q3 = df[c].quantile(0.75)\n",
        "    #IQR = Q3 - Q1\n",
        "    #print (Q1 - 1.5*IQR, Q3 + 1.5*IQR)\n",
        "\n",
        "    #dropIndexes = df[df[c] > Q3 + 1.5*IQR].index\n",
        "    #df.drop(dropIndexes , inplace=True)\n",
        "    #dropIndexes = df[df[c] < Q1 - 1.5*IQR].index\n",
        "    #df.drop(dropIndexes , inplace=True)\n",
        "\n",
        "    # Drop values beyond 90% of max()\n",
        "    dropIndexes = df[df[c] > df[c].max()*9/10].index\n",
        "    df.drop(dropIndexes , inplace=True)"
      ],
      "metadata": {
        "colab": {
          "base_uri": "https://localhost:8080/"
        },
        "id": "3bVI_T1By8U2",
        "outputId": "d70fb395-3d1e-409a-f8aa-9bb32ea9722f"
      },
      "execution_count": null,
      "outputs": [
        {
          "output_type": "stream",
          "name": "stdout",
          "text": [
            "Age upon Intake Days\n",
            "Age upon Outcome Days\n"
          ]
        }
      ]
    },
    {
      "cell_type": "code",
      "source": [
        "for c in numerical_features_all:\n",
        "    print(c)\n",
        "    print(df[c].value_counts(bins=10, sort=False))\n",
        "    plt.show()"
      ],
      "metadata": {
        "colab": {
          "base_uri": "https://localhost:8080/"
        },
        "id": "fv3cI6WdzaMl",
        "outputId": "114bb485-8a40-4d30-a0e9-476180d9b8a4"
      },
      "execution_count": null,
      "outputs": [
        {
          "output_type": "stream",
          "name": "stdout",
          "text": [
            "Age upon Intake Days\n",
            "(-6.936, 693.5]     61425\n",
            "(693.5, 1387.0]     18400\n",
            "(1387.0, 2080.5]     5657\n",
            "(2080.5, 2774.0]     3471\n",
            "(2774.0, 3467.5]     2557\n",
            "(3467.5, 4161.0]     1962\n",
            "(4161.0, 4854.5]     1148\n",
            "(4854.5, 5548.0]      596\n",
            "(5548.0, 6241.5]      183\n",
            "(6241.5, 6935.0]       63\n",
            "Name: Age upon Intake Days, dtype: int64\n",
            "Age upon Outcome Days\n",
            "(-6.936, 693.5]     61208\n",
            "(693.5, 1387.0]     18490\n",
            "(1387.0, 2080.5]     5643\n",
            "(2080.5, 2774.0]     3465\n",
            "(2774.0, 3467.5]     2600\n",
            "(3467.5, 4161.0]     2004\n",
            "(4161.0, 4854.5]     1196\n",
            "(4854.5, 5548.0]      604\n",
            "(5548.0, 6241.5]      187\n",
            "(6241.5, 6935.0]       65\n",
            "Name: Age upon Outcome Days, dtype: int64\n"
          ]
        }
      ]
    },
    {
      "cell_type": "markdown",
      "source": [
        "Se obtienen de nuevo los histogramas con un mayor número de _bins_ para la visualización"
      ],
      "metadata": {
        "id": "jBX602Rvzfjx"
      }
    },
    {
      "cell_type": "code",
      "source": [
        "for c in numerical_features_all:\n",
        "    print(c)\n",
        "    df[c].plot.hist(bins=100)\n",
        "    plt.show()"
      ],
      "metadata": {
        "colab": {
          "base_uri": "https://localhost:8080/",
          "height": 878
        },
        "id": "xuYnHIflzp5R",
        "outputId": "1f5a7631-7ddf-4d92-d963-df20de458fef"
      },
      "execution_count": null,
      "outputs": [
        {
          "output_type": "stream",
          "name": "stdout",
          "text": [
            "Age upon Intake Days\n"
          ]
        },
        {
          "output_type": "display_data",
          "data": {
            "text/plain": [
              "<Figure size 640x480 with 1 Axes>"
            ],
            "image/png": "[encoded data removed]"
          },
          "metadata": {}
        },
        {
          "output_type": "stream",
          "name": "stdout",
          "text": [
            "Age upon Outcome Days\n"
          ]
        },
        {
          "output_type": "display_data",
          "data": {
            "text/plain": [
              "<Figure size 640x480 with 1 Axes>"
            ],
            "image/png": "[encoded data removed]"
          },
          "metadata": {}
        }
      ]
    },
    {
      "cell_type": "markdown",
      "source": [
        "## 4. <a name=\"4\">Estadísticas multivariadas: Gráficas de dispersión y correlación</a>\n",
        "\n",
        "__Scatter plot:__ Los gráficos de dispersión son gráficas en 2D de dos variables numéricas que puede ser utilizado para explorar su relación."
      ],
      "metadata": {
        "id": "F_oqA1Dizyb1"
      }
    },
    {
      "cell_type": "code",
      "source": [
        "fig, axes = plt.subplots(len(numerical_features_all), len(numerical_features_all), figsize=(16, 16), sharex=False, sharey=False)\n",
        "for i in range(0,len(numerical_features_all)):\n",
        "    for j in range(0,len(numerical_features_all)):\n",
        "        axes[i,j].scatter(x = df[numerical_features_all[i]], y = df[numerical_features_all[j]])\n",
        "fig.tight_layout()"
      ],
      "metadata": {
        "colab": {
          "base_uri": "https://localhost:8080/",
          "height": 835
        },
        "id": "JWZVUESZ05Zu",
        "outputId": "f31c1bff-e9f9-455c-d27a-40c72ddc2744"
      },
      "execution_count": null,
      "outputs": [
        {
          "output_type": "display_data",
          "data": {
            "text/plain": [
              "<Figure size 1600x1600 with 4 Axes>"
            ],
            "image/png": "[encoded data removed]"
          },
          "metadata": {}
        }
      ]
    },
    {
      "cell_type": "markdown",
      "source": [
        "__Scatter plot con identificación:__ Se puede agregar la variable objetivo (0 o 1) a la gráfica de dispersión\n"
      ],
      "metadata": {
        "id": "e8jJeHeE13i0"
      }
    },
    {
      "cell_type": "code",
      "source": [
        "X1 = df[[numerical_features_all[0], numerical_features_all[1]]][df[model_target] == 0]\n",
        "X2 = df[[numerical_features_all[0], numerical_features_all[1]]][df[model_target] == 1]\n",
        "\n",
        "plt.scatter(X1.iloc[:,0],\n",
        "            X1.iloc[:,1],\n",
        "            s=50,\n",
        "            c='blue',\n",
        "            marker='o',\n",
        "            label='0')\n",
        "\n",
        "plt.scatter(X2.iloc[:,0],\n",
        "            X2.iloc[:,1],\n",
        "            s=50,\n",
        "            c='red',\n",
        "            marker='v',\n",
        "            label='1')\n",
        "\n",
        "plt.xlabel(numerical_features_all[0])\n",
        "plt.ylabel(numerical_features_all[1])\n",
        "plt.legend()\n",
        "plt.grid()\n",
        "plt.show()"
      ],
      "metadata": {
        "colab": {
          "base_uri": "https://localhost:8080/",
          "height": 449
        },
        "id": "kenraTks2SP-",
        "outputId": "5f7ca00c-3744-42c1-e32a-1495eab46dcf"
      },
      "execution_count": null,
      "outputs": [
        {
          "output_type": "display_data",
          "data": {
            "text/plain": [
              "<Figure size 640x480 with 1 Axes>"
            ],
            "image/png": "[encoded data removed]"
          },
          "metadata": {}
        }
      ]
    },
    {
      "cell_type": "markdown",
      "source": [
        "Los diagramas de dispersión con identificación, a veces pueden ayudar a identificar si podemos lograr una buena separación entre los puntos de datos, basándonos únicamente en estas dos características numéricas."
      ],
      "metadata": {
        "id": "vfjUV-tw2fOZ"
      }
    },
    {
      "cell_type": "markdown",
      "source": [
        "__Correlación:__ La correlación muestra un valor entre -1 y 1 que dice que tan linealmente relacionadas están las variables numéricas. Las correlaciones se pueden mostrar como una matrix o en un mapa de calor"
      ],
      "metadata": {
        "id": "JUvDOpVb2mPd"
      }
    },
    {
      "cell_type": "code",
      "source": [
        "cols=[numerical_features_all[0], numerical_features_all[1]]\n",
        "#print(df[cols].corr())\n",
        "df[cols].corr().style.background_gradient(cmap='tab20c')"
      ],
      "metadata": {
        "colab": {
          "base_uri": "https://localhost:8080/",
          "height": 112
        },
        "id": "uvmln6Tm3By-",
        "outputId": "032f58c2-dc11-494c-bdb4-58b961e6f496"
      },
      "execution_count": null,
      "outputs": [
        {
          "output_type": "execute_result",
          "data": {
            "text/plain": [
              "<pandas.io.formats.style.Styler at 0x7898e49bb460>"
            ],
            "text/html": [
              "<style type=\"text/css\">\n",
              "#T_57a85_row0_col0, #T_57a85_row1_col1 {\n",
              "  background-color: #d9d9d9;\n",
              "  color: #000000;\n",
              "}\n",
              "#T_57a85_row0_col1, #T_57a85_row1_col0 {\n",
              "  background-color: #3182bd;\n",
              "  color: #f1f1f1;\n",
              "}\n",
              "</style>\n",
              "<table id=\"T_57a85\" class=\"dataframe\">\n",
              "  <thead>\n",
              "    <tr>\n",
              "      <th class=\"blank level0\" >&nbsp;</th>\n",
              "      <th id=\"T_57a85_level0_col0\" class=\"col_heading level0 col0\" >Age upon Intake Days</th>\n",
              "      <th id=\"T_57a85_level0_col1\" class=\"col_heading level0 col1\" >Age upon Outcome Days</th>\n",
              "    </tr>\n",
              "  </thead>\n",
              "  <tbody>\n",
              "    <tr>\n",
              "      <th id=\"T_57a85_level0_row0\" class=\"row_heading level0 row0\" >Age upon Intake Days</th>\n",
              "      <td id=\"T_57a85_row0_col0\" class=\"data row0 col0\" >1.000000</td>\n",
              "      <td id=\"T_57a85_row0_col1\" class=\"data row0 col1\" >0.998839</td>\n",
              "    </tr>\n",
              "    <tr>\n",
              "      <th id=\"T_57a85_level0_row1\" class=\"row_heading level0 row1\" >Age upon Outcome Days</th>\n",
              "      <td id=\"T_57a85_row1_col0\" class=\"data row1 col0\" >0.998839</td>\n",
              "      <td id=\"T_57a85_row1_col1\" class=\"data row1 col1\" >1.000000</td>\n",
              "    </tr>\n",
              "  </tbody>\n",
              "</table>\n"
            ]
          },
          "metadata": {},
          "execution_count": 22
        }
      ]
    },
    {
      "cell_type": "markdown",
      "source": [
        "Similar a los gráficos de dispersión, los valores de la matriz de correlación pueden identificar más claramente las relaciones entre las características numéricas. Los valores de correlación de -1 significan una correlación negativa perfecta, 1 significa una correlación positiva perfecta y 0 significa que no hay relación entre las dos características numéricas."
      ],
      "metadata": {
        "id": "zdYKU34u3LWk"
      }
    },
    {
      "cell_type": "markdown",
      "source": [
        "Ejemplo para la base de datos"
      ],
      "metadata": {
        "id": "cQtGHMBc4cnm"
      }
    },
    {
      "cell_type": "code",
      "source": [
        "cols=[numerical_features_all[0], numerical_features_all[1]]\n",
        "corr = df[cols].corr()\n",
        "\n",
        "# Genera una máscara para la triangular superior\n",
        "mask = np.triu(np.ones_like(corr, dtype=np.bool))\n",
        "\n",
        "# Inicializa la figura en matplotlib\n",
        "f, ax = plt.subplots(figsize=(11, 9))\n",
        "\n",
        "# Genera un mapa de colores personalizado\n",
        "cmap = sns.diverging_palette(220, 10, as_cmap=True)\n",
        "\n",
        "# Dibuja el mapa de calor\n",
        "sns.heatmap(corr, mask=mask, cmap=cmap, vmax=.3, center=0,\n",
        "            square=True, linewidths=.5, cbar_kws={\"shrink\": .5})"
      ],
      "metadata": {
        "colab": {
          "base_uri": "https://localhost:8080/",
          "height": 831
        },
        "id": "dpm9STp84e3H",
        "outputId": "3d8262f0-b423-4d70-f420-8342c1dfded9"
      },
      "execution_count": null,
      "outputs": [
        {
          "output_type": "stream",
          "name": "stderr",
          "text": [
            "<ipython-input-23-afb442b5d7ab>:5: DeprecationWarning: `np.bool` is a deprecated alias for the builtin `bool`. To silence this warning, use `bool` by itself. Doing this will not modify any behavior and is safe. If you specifically wanted the numpy scalar type, use `np.bool_` here.\n",
            "Deprecated in NumPy 1.20; for more details and guidance: https://numpy.org/devdocs/release/1.20.0-notes.html#deprecations\n",
            "  mask = np.triu(np.ones_like(corr, dtype=np.bool))\n"
          ]
        },
        {
          "output_type": "execute_result",
          "data": {
            "text/plain": [
              "<Axes: >"
            ]
          },
          "metadata": {},
          "execution_count": 23
        },
        {
          "output_type": "display_data",
          "data": {
            "text/plain": [
              "<Figure size 1100x900 with 2 Axes>"
            ],
            "image/png": "[encoded data removed]"
          },
          "metadata": {}
        }
      ]
    },
    {
      "cell_type": "markdown",
      "source": [
        "Ejemplo para datos generados aleatoriamente"
      ],
      "metadata": {
        "id": "kmJr_4wO4V6B"
      }
    },
    {
      "cell_type": "code",
      "source": [
        "sns.set(style=\"white\")\n",
        "\n",
        "# Genera un dataset aleatorio\n",
        "rs = np.random.RandomState(33)\n",
        "d = pd.DataFrame(data=rs.normal(size=(100, 26)),\n",
        "                 columns=list(ascii_letters[26:]))\n",
        "\n",
        "# Calcula la matriz de correlación\n",
        "corr = d.corr()\n",
        "\n",
        "# Genera una máscara para la triangular superior\n",
        "mask = np.triu(np.ones_like(corr, dtype=np.bool))\n",
        "\n",
        "# Inicializa la figura en matplotlib\n",
        "f, ax = plt.subplots(figsize=(11, 9))\n",
        "\n",
        "# Genera un mapa de colores personalizado\n",
        "cmap = sns.diverging_palette(220, 10, as_cmap=True)\n",
        "\n",
        "# Dibuja el mapa de calor\n",
        "sns.heatmap(corr, mask=mask, cmap=cmap, vmax=.3, center=0,\n",
        "            square=True, linewidths=.5, cbar_kws={\"shrink\": .5})"
      ],
      "metadata": {
        "colab": {
          "base_uri": "https://localhost:8080/",
          "height": 817
        },
        "id": "eEX_Km3N3KzU",
        "outputId": "2f1802ec-0d38-47f2-c857-9da89f4c5de5"
      },
      "execution_count": null,
      "outputs": [
        {
          "output_type": "stream",
          "name": "stderr",
          "text": [
            "<ipython-input-24-27ebbbfd2979>:12: DeprecationWarning: `np.bool` is a deprecated alias for the builtin `bool`. To silence this warning, use `bool` by itself. Doing this will not modify any behavior and is safe. If you specifically wanted the numpy scalar type, use `np.bool_` here.\n",
            "Deprecated in NumPy 1.20; for more details and guidance: https://numpy.org/devdocs/release/1.20.0-notes.html#deprecations\n",
            "  mask = np.triu(np.ones_like(corr, dtype=np.bool))\n"
          ]
        },
        {
          "output_type": "execute_result",
          "data": {
            "text/plain": [
              "<Axes: >"
            ]
          },
          "metadata": {},
          "execution_count": 24
        },
        {
          "output_type": "display_data",
          "data": {
            "text/plain": [
              "<Figure size 1100x900 with 2 Axes>"
            ],
            "image/png": "[encoded data removed]"
          },
          "metadata": {}
        }
      ]
    },
    {
      "cell_type": "markdown",
      "source": [
        "## 5. <a name=\"5\">Manejo de valores faltantes</a>\n",
        "\n",
        "- <a href=\"#51\">5.1. Descartar columnas con valores perdidos</a>\n",
        "- <a href=\"#52\">5.2. Descartar filas con valores perdidos</a>\n",
        "- <a href=\"#53\">5.3. Imputar valores perdidos con ``pandas``</a>\n",
        "- <a href=\"#54\">5.4. Imputar valores perdidos con ``sklenar``</a>\n",
        "\n",
        "Primero, se calcula el número de valores faltantes (NaN) para cada columna"
      ],
      "metadata": {
        "id": "eYcg7QQJ5NKL"
      }
    },
    {
      "cell_type": "code",
      "source": [
        "df.isna().sum()"
      ],
      "metadata": {
        "colab": {
          "base_uri": "https://localhost:8080/"
        },
        "id": "JOpHbTkc5zaE",
        "outputId": "298a4a06-6f3a-4456-f797-a65b5677ebd9"
      },
      "execution_count": null,
      "outputs": [
        {
          "output_type": "execute_result",
          "data": {
            "text/plain": [
              "Pet ID                       0\n",
              "Outcome Type                 0\n",
              "Sex upon Outcome             1\n",
              "Name                     36343\n",
              "Found Location               0\n",
              "Intake Type                  0\n",
              "Intake Condition             0\n",
              "Pet Type                     0\n",
              "Sex upon Intake              1\n",
              "Breed                        0\n",
              "Color                        0\n",
              "Age upon Intake Days         0\n",
              "Age upon Outcome Days        0\n",
              "dtype: int64"
            ]
          },
          "metadata": {},
          "execution_count": 25
        }
      ]
    },
    {
      "cell_type": "markdown",
      "source": [
        "Exploremos algunas opciones para tratar con valores faltantes tanto de variables numéricas como categóricas."
      ],
      "metadata": {
        "id": "VWZLGsPe7bnP"
      }
    },
    {
      "cell_type": "markdown",
      "source": [
        "## 5.1. <a name=\"51\">Descartar columnas con valores faltantes</a>\n",
        "\n",
        "Podemos eliminar algunas características/columnas si pensamos que hay una cantidad significativa de datos faltantes en esas características. Aquí se eliminan características que tienen más del 20% de valores faltantes.\n",
        "\n",
        "__Pista__: También puedes usar el parámetro ``inplace=True`` para eliminar características in situ sin necesidad de asignación."
      ],
      "metadata": {
        "id": "mdAlcz8T7xf_"
      }
    },
    {
      "cell_type": "code",
      "source": [
        "threshold = 2/10\n",
        "print((df.isna().sum()/len(df.index)))\n",
        "columns_to_drop = df.loc[:,list(((df.isna().sum()/len(df.index))>=threshold))].columns\n",
        "print(columns_to_drop)\n",
        "\n",
        "df_columns_dropped = df.drop(columns_to_drop, axis = 1)\n",
        "df_columns_dropped.head()"
      ],
      "metadata": {
        "colab": {
          "base_uri": "https://localhost:8080/",
          "height": 809
        },
        "id": "Qm7levPH7bAD",
        "outputId": "3a77d3a9-c2f9-43e0-adb2-396369f851e6"
      },
      "execution_count": null,
      "outputs": [
        {
          "output_type": "stream",
          "name": "stdout",
          "text": [
            "Pet ID                   0.000000\n",
            "Outcome Type             0.000000\n",
            "Sex upon Outcome         0.000010\n",
            "Name                     0.380706\n",
            "Found Location           0.000000\n",
            "Intake Type              0.000000\n",
            "Intake Condition         0.000000\n",
            "Pet Type                 0.000000\n",
            "Sex upon Intake          0.000010\n",
            "Breed                    0.000000\n",
            "Color                    0.000000\n",
            "Age upon Intake Days     0.000000\n",
            "Age upon Outcome Days    0.000000\n",
            "dtype: float64\n",
            "Index(['Name'], dtype='object')\n"
          ]
        },
        {
          "output_type": "execute_result",
          "data": {
            "text/plain": [
              "    Pet ID  Outcome Type Sex upon Outcome  \\\n",
              "0  A794011           1.0    Neutered Male   \n",
              "1  A776359           1.0    Neutered Male   \n",
              "2  A674754           0.0      Intact Male   \n",
              "3  A689724           1.0    Neutered Male   \n",
              "4  A680969           1.0    Neutered Male   \n",
              "\n",
              "                        Found Location      Intake Type Intake Condition  \\\n",
              "0                          Austin (TX)  Owner Surrender           Normal   \n",
              "1    7201 Levander Loop in Austin (TX)            Stray           Normal   \n",
              "2        12034 Research in Austin (TX)            Stray          Nursing   \n",
              "3     2300 Waterway Bnd in Austin (TX)            Stray           Normal   \n",
              "4  4701 Staggerbrush Rd in Austin (TX)            Stray          Nursing   \n",
              "\n",
              "  Pet Type Sex upon Intake                    Breed               Color  \\\n",
              "0      Cat   Neutered Male   Domestic Shorthair Mix   Brown Tabby/White   \n",
              "1      Dog     Intact Male  Chihuahua Shorthair Mix         White/Brown   \n",
              "2      Cat     Intact Male   Domestic Shorthair Mix        Orange Tabby   \n",
              "3      Cat     Intact Male   Domestic Shorthair Mix               Black   \n",
              "4      Cat     Intact Male   Domestic Shorthair Mix  White/Orange Tabby   \n",
              "\n",
              "   Age upon Intake Days  Age upon Outcome Days  \n",
              "0                   730                    730  \n",
              "1                   365                    365  \n",
              "2                     6                      6  \n",
              "3                    60                     60  \n",
              "4                     7                     60  "
            ],
            "text/html": [
              "\n",
              "\n",
              "  <div id=\"df-7a4e4f48-e08b-444d-aa40-1a11b3d344fd\">\n",
              "    <div class=\"colab-df-container\">\n",
              "      <div>\n",
              "<style scoped>\n",
              "    .dataframe tbody tr th:only-of-type {\n",
              "        vertical-align: middle;\n",
              "    }\n",
              "\n",
              "    .dataframe tbody tr th {\n",
              "        vertical-align: top;\n",
              "    }\n",
              "\n",
              "    .dataframe thead th {\n",
              "        text-align: right;\n",
              "    }\n",
              "</style>\n",
              "<table border=\"1\" class=\"dataframe\">\n",
              "  <thead>\n",
              "    <tr style=\"text-align: right;\">\n",
              "      <th></th>\n",
              "      <th>Pet ID</th>\n",
              "      <th>Outcome Type</th>\n",
              "      <th>Sex upon Outcome</th>\n",
              "      <th>Found Location</th>\n",
              "      <th>Intake Type</th>\n",
              "      <th>Intake Condition</th>\n",
              "      <th>Pet Type</th>\n",
              "      <th>Sex upon Intake</th>\n",
              "      <th>Breed</th>\n",
              "      <th>Color</th>\n",
              "      <th>Age upon Intake Days</th>\n",
              "      <th>Age upon Outcome Days</th>\n",
              "    </tr>\n",
              "  </thead>\n",
              "  <tbody>\n",
              "    <tr>\n",
              "      <th>0</th>\n",
              "      <td>A794011</td>\n",
              "      <td>1.0</td>\n",
              "      <td>Neutered Male</td>\n",
              "      <td>Austin (TX)</td>\n",
              "      <td>Owner Surrender</td>\n",
              "      <td>Normal</td>\n",
              "      <td>Cat</td>\n",
              "      <td>Neutered Male</td>\n",
              "      <td>Domestic Shorthair Mix</td>\n",
              "      <td>Brown Tabby/White</td>\n",
              "      <td>730</td>\n",
              "      <td>730</td>\n",
              "    </tr>\n",
              "    <tr>\n",
              "      <th>1</th>\n",
              "      <td>A776359</td>\n",
              "      <td>1.0</td>\n",
              "      <td>Neutered Male</td>\n",
              "      <td>7201 Levander Loop in Austin (TX)</td>\n",
              "      <td>Stray</td>\n",
              "      <td>Normal</td>\n",
              "      <td>Dog</td>\n",
              "      <td>Intact Male</td>\n",
              "      <td>Chihuahua Shorthair Mix</td>\n",
              "      <td>White/Brown</td>\n",
              "      <td>365</td>\n",
              "      <td>365</td>\n",
              "    </tr>\n",
              "    <tr>\n",
              "      <th>2</th>\n",
              "      <td>A674754</td>\n",
              "      <td>0.0</td>\n",
              "      <td>Intact Male</td>\n",
              "      <td>12034 Research in Austin (TX)</td>\n",
              "      <td>Stray</td>\n",
              "      <td>Nursing</td>\n",
              "      <td>Cat</td>\n",
              "      <td>Intact Male</td>\n",
              "      <td>Domestic Shorthair Mix</td>\n",
              "      <td>Orange Tabby</td>\n",
              "      <td>6</td>\n",
              "      <td>6</td>\n",
              "    </tr>\n",
              "    <tr>\n",
              "      <th>3</th>\n",
              "      <td>A689724</td>\n",
              "      <td>1.0</td>\n",
              "      <td>Neutered Male</td>\n",
              "      <td>2300 Waterway Bnd in Austin (TX)</td>\n",
              "      <td>Stray</td>\n",
              "      <td>Normal</td>\n",
              "      <td>Cat</td>\n",
              "      <td>Intact Male</td>\n",
              "      <td>Domestic Shorthair Mix</td>\n",
              "      <td>Black</td>\n",
              "      <td>60</td>\n",
              "      <td>60</td>\n",
              "    </tr>\n",
              "    <tr>\n",
              "      <th>4</th>\n",
              "      <td>A680969</td>\n",
              "      <td>1.0</td>\n",
              "      <td>Neutered Male</td>\n",
              "      <td>4701 Staggerbrush Rd in Austin (TX)</td>\n",
              "      <td>Stray</td>\n",
              "      <td>Nursing</td>\n",
              "      <td>Cat</td>\n",
              "      <td>Intact Male</td>\n",
              "      <td>Domestic Shorthair Mix</td>\n",
              "      <td>White/Orange Tabby</td>\n",
              "      <td>7</td>\n",
              "      <td>60</td>\n",
              "    </tr>\n",
              "  </tbody>\n",
              "</table>\n",
              "</div>\n",
              "      <button class=\"colab-df-convert\" onclick=\"convertToInteractive('df-7a4e4f48-e08b-444d-aa40-1a11b3d344fd')\"\n",
              "              title=\"Convert this dataframe to an interactive table.\"\n",
              "              style=\"display:none;\">\n",
              "\n",
              "  <svg xmlns=\"http://www.w3.org/2000/svg\" height=\"24px\"viewBox=\"0 0 24 24\"\n",
              "       width=\"24px\">\n",
              "    <path d=\"M0 0h24v24H0V0z\" fill=\"none\"/>\n",
              "    <path d=\"M18.56 5.44l.94 2.06.94-2.06 2.06-.94-2.06-.94-.94-2.06-.94 2.06-2.06.94zm-11 1L8.5 8.5l.94-2.06 2.06-.94-2.06-.94L8.5 2.5l-.94 2.06-2.06.94zm10 10l.94 2.06.94-2.06 2.06-.94-2.06-.94-.94-2.06-.94 2.06-2.06.94z\"/><path d=\"M17.41 7.96l-1.37-1.37c-.4-.4-.92-.59-1.43-.59-.52 0-1.04.2-1.43.59L10.3 9.45l-7.72 7.72c-.78.78-.78 2.05 0 2.83L4 21.41c.39.39.9.59 1.41.59.51 0 1.02-.2 1.41-.59l7.78-7.78 2.81-2.81c.8-.78.8-2.07 0-2.86zM5.41 20L4 18.59l7.72-7.72 1.47 1.35L5.41 20z\"/>\n",
              "  </svg>\n",
              "      </button>\n",
              "\n",
              "\n",
              "\n",
              "    <div id=\"df-1a839360-d859-494b-8ff0-91dea528309b\">\n",
              "      <button class=\"colab-df-quickchart\" onclick=\"quickchart('df-1a839360-d859-494b-8ff0-91dea528309b')\"\n",
              "              title=\"Suggest charts.\"\n",
              "              style=\"display:none;\">\n",
              "\n",
              "<svg xmlns=\"http://www.w3.org/2000/svg\" height=\"24px\"viewBox=\"0 0 24 24\"\n",
              "     width=\"24px\">\n",
              "    <g>\n",
              "        <path d=\"M19 3H5c-1.1 0-2 .9-2 2v14c0 1.1.9 2 2 2h14c1.1 0 2-.9 2-2V5c0-1.1-.9-2-2-2zM9 17H7v-7h2v7zm4 0h-2V7h2v10zm4 0h-2v-4h2v4z\"/>\n",
              "    </g>\n",
              "</svg>\n",
              "      </button>\n",
              "    </div>\n",
              "\n",
              "<style>\n",
              "  .colab-df-quickchart {\n",
              "    background-color: #E8F0FE;\n",
              "    border: none;\n",
              "    border-radius: 50%;\n",
              "    cursor: pointer;\n",
              "    display: none;\n",
              "    fill: #1967D2;\n",
              "    height: 32px;\n",
              "    padding: 0 0 0 0;\n",
              "    width: 32px;\n",
              "  }\n",
              "\n",
              "  .colab-df-quickchart:hover {\n",
              "    background-color: #E2EBFA;\n",
              "    box-shadow: 0px 1px 2px rgba(60, 64, 67, 0.3), 0px 1px 3px 1px rgba(60, 64, 67, 0.15);\n",
              "    fill: #174EA6;\n",
              "  }\n",
              "\n",
              "  [theme=dark] .colab-df-quickchart {\n",
              "    background-color: #3B4455;\n",
              "    fill: #D2E3FC;\n",
              "  }\n",
              "\n",
              "  [theme=dark] .colab-df-quickchart:hover {\n",
              "    background-color: #434B5C;\n",
              "    box-shadow: 0px 1px 3px 1px rgba(0, 0, 0, 0.15);\n",
              "    filter: drop-shadow(0px 1px 2px rgba(0, 0, 0, 0.3));\n",
              "    fill: #FFFFFF;\n",
              "  }\n",
              "</style>\n",
              "\n",
              "    <script>\n",
              "      async function quickchart(key) {\n",
              "        const containerElement = document.querySelector('#' + key);\n",
              "        const charts = await google.colab.kernel.invokeFunction(\n",
              "            'suggestCharts', [key], {});\n",
              "      }\n",
              "    </script>\n",
              "\n",
              "      <script>\n",
              "\n",
              "function displayQuickchartButton(domScope) {\n",
              "  let quickchartButtonEl =\n",
              "    domScope.querySelector('#df-1a839360-d859-494b-8ff0-91dea528309b button.colab-df-quickchart');\n",
              "  quickchartButtonEl.style.display =\n",
              "    google.colab.kernel.accessAllowed ? 'block' : 'none';\n",
              "}\n",
              "\n",
              "        displayQuickchartButton(document);\n",
              "      </script>\n",
              "      <style>\n",
              "    .colab-df-container {\n",
              "      display:flex;\n",
              "      flex-wrap:wrap;\n",
              "      gap: 12px;\n",
              "    }\n",
              "\n",
              "    .colab-df-convert {\n",
              "      background-color: #E8F0FE;\n",
              "      border: none;\n",
              "      border-radius: 50%;\n",
              "      cursor: pointer;\n",
              "      display: none;\n",
              "      fill: #1967D2;\n",
              "      height: 32px;\n",
              "      padding: 0 0 0 0;\n",
              "      width: 32px;\n",
              "    }\n",
              "\n",
              "    .colab-df-convert:hover {\n",
              "      background-color: #E2EBFA;\n",
              "      box-shadow: 0px 1px 2px rgba(60, 64, 67, 0.3), 0px 1px 3px 1px rgba(60, 64, 67, 0.15);\n",
              "      fill: #174EA6;\n",
              "    }\n",
              "\n",
              "    [theme=dark] .colab-df-convert {\n",
              "      background-color: #3B4455;\n",
              "      fill: #D2E3FC;\n",
              "    }\n",
              "\n",
              "    [theme=dark] .colab-df-convert:hover {\n",
              "      background-color: #434B5C;\n",
              "      box-shadow: 0px 1px 3px 1px rgba(0, 0, 0, 0.15);\n",
              "      filter: drop-shadow(0px 1px 2px rgba(0, 0, 0, 0.3));\n",
              "      fill: #FFFFFF;\n",
              "    }\n",
              "  </style>\n",
              "\n",
              "      <script>\n",
              "        const buttonEl =\n",
              "          document.querySelector('#df-7a4e4f48-e08b-444d-aa40-1a11b3d344fd button.colab-df-convert');\n",
              "        buttonEl.style.display =\n",
              "          google.colab.kernel.accessAllowed ? 'block' : 'none';\n",
              "\n",
              "        async function convertToInteractive(key) {\n",
              "          const element = document.querySelector('#df-7a4e4f48-e08b-444d-aa40-1a11b3d344fd');\n",
              "          const dataTable =\n",
              "            await google.colab.kernel.invokeFunction('convertToInteractive',\n",
              "                                                     [key], {});\n",
              "          if (!dataTable) return;\n",
              "\n",
              "          const docLinkHtml = 'Like what you see? Visit the ' +\n",
              "            '<a target=\"_blank\" href=https://colab.research.google.com/notebooks/data_table.ipynb>data table notebook</a>'\n",
              "            + ' to learn more about interactive tables.';\n",
              "          element.innerHTML = '';\n",
              "          dataTable['output_type'] = 'display_data';\n",
              "          await google.colab.output.renderOutput(dataTable, element);\n",
              "          const docLink = document.createElement('div');\n",
              "          docLink.innerHTML = docLinkHtml;\n",
              "          element.appendChild(docLink);\n",
              "        }\n",
              "      </script>\n",
              "    </div>\n",
              "  </div>\n"
            ]
          },
          "metadata": {},
          "execution_count": 26
        }
      ]
    },
    {
      "cell_type": "code",
      "source": [
        "df_columns_dropped.isna().sum()"
      ],
      "metadata": {
        "colab": {
          "base_uri": "https://localhost:8080/"
        },
        "id": "iFeTTiU28jib",
        "outputId": "3760e372-f546-48d0-e908-4ef575ec8154"
      },
      "execution_count": null,
      "outputs": [
        {
          "output_type": "execute_result",
          "data": {
            "text/plain": [
              "Pet ID                   0\n",
              "Outcome Type             0\n",
              "Sex upon Outcome         1\n",
              "Found Location           0\n",
              "Intake Type              0\n",
              "Intake Condition         0\n",
              "Pet Type                 0\n",
              "Sex upon Intake          1\n",
              "Breed                    0\n",
              "Color                    0\n",
              "Age upon Intake Days     0\n",
              "Age upon Outcome Days    0\n",
              "dtype: int64"
            ]
          },
          "metadata": {},
          "execution_count": 27
        }
      ]
    },
    {
      "cell_type": "code",
      "source": [
        "df_columns_dropped.shape"
      ],
      "metadata": {
        "colab": {
          "base_uri": "https://localhost:8080/"
        },
        "id": "DouahQLV82ce",
        "outputId": "1833f2f0-70b4-4583-bbea-3957eecef442"
      },
      "execution_count": null,
      "outputs": [
        {
          "output_type": "execute_result",
          "data": {
            "text/plain": [
              "(95462, 12)"
            ]
          },
          "metadata": {},
          "execution_count": 28
        }
      ]
    },
    {
      "cell_type": "markdown",
      "source": [
        "Observe el menor número de características en el conjunto de datos. Esto a veces puede llevar a obtener modelos subajustados al no tener suficientes características para construir un buen modelo capaz de capturar los patrones en el conjunto de datos, especialmente al eliminar características que son esenciales para la tarea en cuestión."
      ],
      "metadata": {
        "id": "bF847e179AQo"
      }
    },
    {
      "cell_type": "markdown",
      "source": [
        "## 5.2. <a name=\"52\">Descartar filas con valores faltantes</a>\n",
        "\n",
        "Aquí, simplemente se eliminan las filas que tienen al menos un valor faltante. Hay otras opciones de eliminación para explorar, dependiendo de problemas específicos."
      ],
      "metadata": {
        "id": "HOUTjv7R9Xwd"
      }
    },
    {
      "cell_type": "code",
      "source": [
        "df_missing_dropped = df.dropna()"
      ],
      "metadata": {
        "id": "v-NQN1DZ9kbf"
      },
      "execution_count": null,
      "outputs": []
    },
    {
      "cell_type": "markdown",
      "source": [
        "Vamos a verificar la cantidad de valores faltantes"
      ],
      "metadata": {
        "id": "UYIB4oMd9nd8"
      }
    },
    {
      "cell_type": "code",
      "source": [
        "df_missing_dropped.isna().sum()"
      ],
      "metadata": {
        "colab": {
          "base_uri": "https://localhost:8080/"
        },
        "id": "dFT7lnZL9mup",
        "outputId": "f057db66-1ae6-4668-b49b-ceb0eaa5ae0f"
      },
      "execution_count": null,
      "outputs": [
        {
          "output_type": "execute_result",
          "data": {
            "text/plain": [
              "Pet ID                   0\n",
              "Outcome Type             0\n",
              "Sex upon Outcome         0\n",
              "Name                     0\n",
              "Found Location           0\n",
              "Intake Type              0\n",
              "Intake Condition         0\n",
              "Pet Type                 0\n",
              "Sex upon Intake          0\n",
              "Breed                    0\n",
              "Color                    0\n",
              "Age upon Intake Days     0\n",
              "Age upon Outcome Days    0\n",
              "dtype: int64"
            ]
          },
          "metadata": {},
          "execution_count": 30
        }
      ]
    },
    {
      "cell_type": "code",
      "source": [
        "df_missing_dropped.shape"
      ],
      "metadata": {
        "colab": {
          "base_uri": "https://localhost:8080/"
        },
        "id": "71u7kXBUDZEP",
        "outputId": "2aad7cac-514c-4a07-d633-f2d4bef69c75"
      },
      "execution_count": null,
      "outputs": [
        {
          "output_type": "execute_result",
          "data": {
            "text/plain": [
              "(59118, 13)"
            ]
          },
          "metadata": {},
          "execution_count": 31
        }
      ]
    },
    {
      "cell_type": "markdown",
      "source": [
        "Este enfoque puede reducir drásticamente el número de muestras de datos. Esto a veces puede llevar a modelos de sobreajuste -- especialmente cuando el número de características es mayor o comparable al número de muestras de datos."
      ],
      "metadata": {
        "id": "b2IJ-K_7EKTJ"
      }
    },
    {
      "cell_type": "markdown",
      "source": [
        "## 5.3. <a name=\"53\">Imputar valores faltantes con ``pandas``</a>\n",
        "\n",
        "En lugar de eliminar filas (muestras de datos) y/o columnas (características), otra estrategia para lidiar con los valores faltantes sería completar dichos valores con nuevos valores: imputación de valores faltantes.\n",
        "\n",
        "__Imputación de valores numéricos:__ La forma más fácil de imputar valores numéricos es obtener el valor promedio (media) para la columna correspondiente y usar eso como el nuevo valor para cada registro faltante en esa columna."
      ],
      "metadata": {
        "id": "V4kWpiNHE6Hx"
      }
    },
    {
      "cell_type": "code",
      "source": [
        "# Imputar características numéricas usando la media por característica para reemplazar los NaNs\n",
        "\n",
        "# Asignar el df a un nuevo df\n",
        "df_imputed = df.copy()\n",
        "print(df_imputed[numerical_features_all].isna().sum())\n",
        "\n",
        "# Imputar las dos variables numéricas con la media\n",
        "df_imputed[numerical_features_all] = df_imputed[numerical_features_all].fillna(df_imputed[numerical_features_all].mean())\n",
        "\n",
        "print(df_imputed[numerical_features_all].isna().sum())"
      ],
      "metadata": {
        "colab": {
          "base_uri": "https://localhost:8080/"
        },
        "id": "SmRA63EGFPiP",
        "outputId": "4eb66cfe-a21e-414c-9fd1-fef0294c3586"
      },
      "execution_count": null,
      "outputs": [
        {
          "output_type": "stream",
          "name": "stdout",
          "text": [
            "Age upon Intake Days     0\n",
            "Age upon Outcome Days    0\n",
            "dtype: int64\n",
            "Age upon Intake Days     0\n",
            "Age upon Outcome Days    0\n",
            "dtype: int64\n"
          ]
        }
      ]
    },
    {
      "cell_type": "markdown",
      "source": [
        "__Imputación de variables categóricas:__ Podemos imputar valores categóricos obteniendo el valor más común (moda) para la columna correspondiente y usar eso como el nuevo valor para cada registro faltante en esa columna."
      ],
      "metadata": {
        "id": "CYV-G47XFpjV"
      }
    },
    {
      "cell_type": "code",
      "source": [
        "# Imputar características categóricas usando la moda por característica para reemplazar los NaNs\n",
        "\n",
        "# Asignar el df a un nuevo df\n",
        "df_imputed_c = df.copy()\n",
        "print(df_imputed_c[categorical_features_all].isna().sum())\n",
        "\n",
        "for c in categorical_features_all:\n",
        "    # Hallar la moda para cada característica\n",
        "    mode_impute = df_imputed_c[c].mode()\n",
        "    print(c, mode_impute)\n",
        "\n",
        "    # Imputar las variables categóricas con la moda\n",
        "    # El parámetro \"inplace=True\" reemplaza los valores faltantes in place\n",
        "    df_imputed_c[c].fillna(False, inplace=True)\n",
        "\n",
        "print(df_imputed_c[categorical_features_all].isna().sum())"
      ],
      "metadata": {
        "colab": {
          "base_uri": "https://localhost:8080/"
        },
        "id": "GL2k3TAIFx_I",
        "outputId": "007cf168-3594-4a10-8e2e-b1165f921d24"
      },
      "execution_count": null,
      "outputs": [
        {
          "output_type": "stream",
          "name": "stdout",
          "text": [
            "Pet ID                  0\n",
            "Sex upon Outcome        1\n",
            "Name                36343\n",
            "Found Location          0\n",
            "Intake Type             0\n",
            "Intake Condition        0\n",
            "Pet Type                0\n",
            "Sex upon Intake         1\n",
            "Breed                   0\n",
            "Color                   0\n",
            "dtype: int64\n",
            "Pet ID 0        A047759\n",
            "1        A134067\n",
            "2        A141142\n",
            "3        A163459\n",
            "4        A165752\n",
            "          ...   \n",
            "95457    A819862\n",
            "95458    A819864\n",
            "95459    A819865\n",
            "95460    A819895\n",
            "95461    A819908\n",
            "Name: Pet ID, Length: 95462, dtype: object\n",
            "Sex upon Outcome 0    Neutered Male\n",
            "Name: Sex upon Outcome, dtype: object\n",
            "Name 0    Bella\n",
            "Name: Name, dtype: object\n",
            "Found Location 0    Austin (TX)\n",
            "Name: Found Location, dtype: object\n",
            "Intake Type 0    Stray\n",
            "Name: Intake Type, dtype: object\n",
            "Intake Condition 0    Normal\n",
            "Name: Intake Condition, dtype: object\n",
            "Pet Type 0    Dog\n",
            "Name: Pet Type, dtype: object\n",
            "Sex upon Intake 0    Intact Male\n",
            "Name: Sex upon Intake, dtype: object\n",
            "Breed 0    Domestic Shorthair Mix\n",
            "Name: Breed, dtype: object\n",
            "Color 0    Black/White\n",
            "Name: Color, dtype: object\n",
            "Pet ID              0\n",
            "Sex upon Outcome    0\n",
            "Name                0\n",
            "Found Location      0\n",
            "Intake Type         0\n",
            "Intake Condition    0\n",
            "Pet Type            0\n",
            "Sex upon Intake     0\n",
            "Breed               0\n",
            "Color               0\n",
            "dtype: int64\n"
          ]
        }
      ]
    },
    {
      "cell_type": "markdown",
      "source": [
        "También podemos crear una nueva categoría, ``Missing``, para todas o algunas características categóricas seleccionadas."
      ],
      "metadata": {
        "id": "kv4zxJcbGU9N"
      }
    },
    {
      "cell_type": "code",
      "source": [
        "# Imputar las características categóricas con un valore pre-determinado\n",
        "\n",
        "# Asignar el df a un nuevo df\n",
        "df_imputed = df.copy()\n",
        "print(df_imputed[categorical_features_all].isna().sum())\n",
        "\n",
        "# Imputar las variables categóricas con una nueva categoría llamada \"Missing\".\n",
        "df_imputed[categorical_features_all]= df_imputed[categorical_features_all].fillna(\"Missing\")\n",
        "\n",
        "print(df_imputed[categorical_features_all].isna().sum())"
      ],
      "metadata": {
        "colab": {
          "base_uri": "https://localhost:8080/"
        },
        "id": "QRQy_QhWGoho",
        "outputId": "45c74b2c-b4d4-404d-e910-616d3728015a"
      },
      "execution_count": null,
      "outputs": [
        {
          "output_type": "stream",
          "name": "stdout",
          "text": [
            "Pet ID                  0\n",
            "Sex upon Outcome        1\n",
            "Name                36343\n",
            "Found Location          0\n",
            "Intake Type             0\n",
            "Intake Condition        0\n",
            "Pet Type                0\n",
            "Sex upon Intake         1\n",
            "Breed                   0\n",
            "Color                   0\n",
            "dtype: int64\n",
            "Pet ID              0\n",
            "Sex upon Outcome    0\n",
            "Name                0\n",
            "Found Location      0\n",
            "Intake Type         0\n",
            "Intake Condition    0\n",
            "Pet Type            0\n",
            "Sex upon Intake     0\n",
            "Breed               0\n",
            "Color               0\n",
            "dtype: int64\n"
          ]
        }
      ]
    },
    {
      "cell_type": "markdown",
      "source": [
        "## 5.4. <a name=\"54\">Imputar valores faltantes con ``sklearn``</a>\n",
        "\n",
        "Una forma más elegante de implementar la imputación de valores faltantes es usando la función de ``sklearn`` ``SimpleImputer`. Esta clase implementa los métodos típicos `.fit()` y `transform()`.\n"
      ],
      "metadata": {
        "id": "Au-b2bAIHD79"
      }
    },
    {
      "cell_type": "code",
      "source": [
        "from sklearn.impute import SimpleImputer"
      ],
      "metadata": {
        "id": "wMQOkhW8GJ-G"
      },
      "execution_count": null,
      "outputs": []
    },
    {
      "cell_type": "code",
      "source": [
        "# Imputar las columnas numéricas usando la media por columna para reemplazar los NaNs\n",
        "\n",
        "# Asignar el df a un nuevo df\n",
        "\n",
        "df_sklearn_imputed = df.copy()\n",
        "print(df_sklearn_imputed[numerical_features_all].isna().sum())\n",
        "\n",
        "imputer = SimpleImputer(strategy='mean')\n",
        "df_sklearn_imputed[numerical_features_all] = imputer.fit_transform(df_sklearn_imputed[numerical_features_all])\n",
        "\n",
        "print(df_sklearn_imputed[numerical_features_all].isna().sum())"
      ],
      "metadata": {
        "colab": {
          "base_uri": "https://localhost:8080/"
        },
        "id": "B7dDJ4LLGNrh",
        "outputId": "732553c2-148f-472d-c7c9-f97d4d4529db"
      },
      "execution_count": null,
      "outputs": [
        {
          "output_type": "stream",
          "name": "stdout",
          "text": [
            "Age upon Intake Days     0\n",
            "Age upon Outcome Days    0\n",
            "dtype: int64\n",
            "Age upon Intake Days     0\n",
            "Age upon Outcome Days    0\n",
            "dtype: int64\n"
          ]
        }
      ]
    },
    {
      "cell_type": "code",
      "source": [
        "# Imputar las columnas categóricas usando la moda por columna para reemplazar los NaNs\n",
        "\n",
        "# Seleccionar algunas características categóricas que desee imputar con esta metodología\n",
        "categoricals_missing_values = df[categorical_features_all].loc[:,list(((df[categorical_features_all].isna().sum()/len(df.index)) > 0.0))].columns\n",
        "columns_to_impute = categoricals_missing_values[1:3]\n",
        "print(columns_to_impute)\n",
        "\n",
        "# Asignar el df a un nuevo df\n",
        "df_sklearn_imputer = df.copy()\n",
        "print(df_sklearn_imputer[columns_to_impute].isna().sum())\n",
        "\n",
        "imputer = SimpleImputer(strategy='most_frequent')\n",
        "df_sklearn_imputer[columns_to_impute] = imputer.fit_transform(df_sklearn_imputer[columns_to_impute])\n",
        "\n",
        "print(df_sklearn_imputer[columns_to_impute].isna().sum())"
      ],
      "metadata": {
        "colab": {
          "base_uri": "https://localhost:8080/"
        },
        "id": "XPiddA0vGdxM",
        "outputId": "53e1d375-8d67-4272-eac8-085c8107c3bc"
      },
      "execution_count": null,
      "outputs": [
        {
          "output_type": "stream",
          "name": "stdout",
          "text": [
            "Index(['Name', 'Sex upon Intake'], dtype='object')\n",
            "Name               36343\n",
            "Sex upon Intake        1\n",
            "dtype: int64\n",
            "Name               0\n",
            "Sex upon Intake    0\n",
            "dtype: int64\n"
          ]
        }
      ]
    },
    {
      "cell_type": "code",
      "source": [
        "# Imputar las características categóricas con un valore pre-determinado\n",
        "\n",
        "# Seleccionar algunas características categóricas que desee imputar con esta metodología\n",
        "categoricals_missing_values = df[categorical_features_all].loc[:,list(((df[categorical_features_all].isna().sum()/len(df.index)) > 0.0))].columns\n",
        "columns_to_impute = categoricals_missing_values[1:3]\n",
        "print(columns_to_impute)\n",
        "\n",
        "# Asignar el df a un nuevo df\n",
        "df_sklearn_imputer = df.copy()\n",
        "print(df_sklearn_imputer[columns_to_impute].isna().sum())\n",
        "\n",
        "imputer = SimpleImputer(strategy='constant', fill_value = \"Missing\")\n",
        "df_sklearn_imputer[columns_to_impute] = imputer.fit_transform(df_sklearn_imputer[columns_to_impute])\n",
        "\n",
        "print(df_sklearn_imputer[columns_to_impute].isna().sum())"
      ],
      "metadata": {
        "colab": {
          "base_uri": "https://localhost:8080/"
        },
        "id": "v_hEPpPrG8h8",
        "outputId": "be2f8d14-f87a-477a-fc98-35d17c55ca3b"
      },
      "execution_count": null,
      "outputs": [
        {
          "output_type": "stream",
          "name": "stdout",
          "text": [
            "Index(['Name', 'Sex upon Intake'], dtype='object')\n",
            "Name               36343\n",
            "Sex upon Intake        1\n",
            "dtype: int64\n",
            "Name               0\n",
            "Sex upon Intake    0\n",
            "dtype: int64\n"
          ]
        }
      ]
    }
  ]
}